{
 "cells": [
  {
   "cell_type": "code",
   "execution_count": 1,
   "id": "f35b1666-5393-458a-b747-177c1a1525ca",
   "metadata": {},
   "outputs": [],
   "source": [
    "import pandas as pd"
   ]
  },
  {
   "cell_type": "code",
   "execution_count": 1,
   "id": "2f54c7ad",
   "metadata": {},
   "outputs": [],
   "source": [
    "# import os\n",
    "# os.environ['OPENAI_API_KEY'] = 'key'"
   ]
  },
  {
   "cell_type": "code",
   "execution_count": 4,
   "id": "a88433ad-dcc1-4455-a0df-3006b43c52a0",
   "metadata": {},
   "outputs": [],
   "source": [
    "from openai import OpenAI\n",
    "\n",
    "client = OpenAI()"
   ]
  },
  {
   "cell_type": "code",
   "execution_count": 26,
   "id": "5babe3a1-3d8b-428a-92a8-5fc2285fc494",
   "metadata": {},
   "outputs": [],
   "source": [
    "df = pd.read_csv('../data/data.csv')\n",
    "df.columns = df.columns.str.lower().str.replace(' ', '_')\n",
    "# df.insert(0, 'id', df.index)\n",
    "documents = df.to_dict(orient='records')"
   ]
  },
  {
   "cell_type": "code",
   "execution_count": 8,
   "id": "7556083b",
   "metadata": {},
   "outputs": [
    {
     "data": {
      "text/plain": [
       "{'exercise_name': 'Push-Ups',\n",
       " 'type_of_activity': 'Strength',\n",
       " 'type_of_equipment': 'Bodyweight',\n",
       " 'body_part': 'Upper Body',\n",
       " 'type': 'Push',\n",
       " 'muscle_groups_activated': 'Pectorals, Triceps, Deltoids',\n",
       " 'instructions': 'Start in a high plank position with your hands under your shoulders. Lower your body until your chest nearly touches the floor. Push back up to the starting position.'}"
      ]
     },
     "execution_count": 8,
     "metadata": {},
     "output_type": "execute_result"
    }
   ],
   "source": [
    "documents[0]"
   ]
  },
  {
   "cell_type": "code",
   "execution_count": 27,
   "id": "c232af06",
   "metadata": {},
   "outputs": [
    {
     "data": {
      "text/html": [
       "<div>\n",
       "<style scoped>\n",
       "    .dataframe tbody tr th:only-of-type {\n",
       "        vertical-align: middle;\n",
       "    }\n",
       "\n",
       "    .dataframe tbody tr th {\n",
       "        vertical-align: top;\n",
       "    }\n",
       "\n",
       "    .dataframe thead th {\n",
       "        text-align: right;\n",
       "    }\n",
       "</style>\n",
       "<table border=\"1\" class=\"dataframe\">\n",
       "  <thead>\n",
       "    <tr style=\"text-align: right;\">\n",
       "      <th></th>\n",
       "      <th>id</th>\n",
       "      <th>exercise_name</th>\n",
       "      <th>type_of_activity</th>\n",
       "      <th>type_of_equipment</th>\n",
       "      <th>body_part</th>\n",
       "      <th>type</th>\n",
       "      <th>muscle_groups_activated</th>\n",
       "      <th>instructions</th>\n",
       "    </tr>\n",
       "  </thead>\n",
       "  <tbody>\n",
       "    <tr>\n",
       "      <th>0</th>\n",
       "      <td>0</td>\n",
       "      <td>Push-Ups</td>\n",
       "      <td>Strength</td>\n",
       "      <td>Bodyweight</td>\n",
       "      <td>Upper Body</td>\n",
       "      <td>Push</td>\n",
       "      <td>Pectorals, Triceps, Deltoids</td>\n",
       "      <td>Start in a high plank position with your hands...</td>\n",
       "    </tr>\n",
       "    <tr>\n",
       "      <th>1</th>\n",
       "      <td>1</td>\n",
       "      <td>Squats</td>\n",
       "      <td>Strength</td>\n",
       "      <td>Bodyweight</td>\n",
       "      <td>Lower Body</td>\n",
       "      <td>Push</td>\n",
       "      <td>Quadriceps, Glutes, Hamstrings</td>\n",
       "      <td>Stand with feet shoulder-width apart. Lower yo...</td>\n",
       "    </tr>\n",
       "    <tr>\n",
       "      <th>2</th>\n",
       "      <td>2</td>\n",
       "      <td>Plank</td>\n",
       "      <td>Strength/Mobility</td>\n",
       "      <td>Bodyweight</td>\n",
       "      <td>Core</td>\n",
       "      <td>Hold</td>\n",
       "      <td>Rectus Abdominis, Transverse Abdominis</td>\n",
       "      <td>Start in a forearm plank position with your el...</td>\n",
       "    </tr>\n",
       "    <tr>\n",
       "      <th>3</th>\n",
       "      <td>3</td>\n",
       "      <td>Deadlift</td>\n",
       "      <td>Strength</td>\n",
       "      <td>Barbell</td>\n",
       "      <td>Lower Body</td>\n",
       "      <td>Pull</td>\n",
       "      <td>Glutes, Hamstrings, Lower Back</td>\n",
       "      <td>Stand with feet hip-width apart, barbell in fr...</td>\n",
       "    </tr>\n",
       "    <tr>\n",
       "      <th>4</th>\n",
       "      <td>4</td>\n",
       "      <td>Bicep Curls</td>\n",
       "      <td>Strength</td>\n",
       "      <td>Dumbbells</td>\n",
       "      <td>Upper Body</td>\n",
       "      <td>Pull</td>\n",
       "      <td>Biceps, Forearms</td>\n",
       "      <td>Stand with a dumbbell in each hand, arms fully...</td>\n",
       "    </tr>\n",
       "    <tr>\n",
       "      <th>...</th>\n",
       "      <td>...</td>\n",
       "      <td>...</td>\n",
       "      <td>...</td>\n",
       "      <td>...</td>\n",
       "      <td>...</td>\n",
       "      <td>...</td>\n",
       "      <td>...</td>\n",
       "      <td>...</td>\n",
       "    </tr>\n",
       "    <tr>\n",
       "      <th>202</th>\n",
       "      <td>202</td>\n",
       "      <td>Incline Dumbbell Row</td>\n",
       "      <td>Strength</td>\n",
       "      <td>Dumbbells</td>\n",
       "      <td>Upper Body</td>\n",
       "      <td>Pull</td>\n",
       "      <td>Latissimus Dorsi, Biceps</td>\n",
       "      <td>Lie face down on an incline bench with a dumbb...</td>\n",
       "    </tr>\n",
       "    <tr>\n",
       "      <th>203</th>\n",
       "      <td>203</td>\n",
       "      <td>Machine Lat Pulldown</td>\n",
       "      <td>Strength</td>\n",
       "      <td>Machine</td>\n",
       "      <td>Upper Body</td>\n",
       "      <td>Pull</td>\n",
       "      <td>Latissimus Dorsi, Biceps</td>\n",
       "      <td>Sit at a lat pulldown machine with a wide grip...</td>\n",
       "    </tr>\n",
       "    <tr>\n",
       "      <th>204</th>\n",
       "      <td>204</td>\n",
       "      <td>One-Arm Cable Row</td>\n",
       "      <td>Strength</td>\n",
       "      <td>Cable Machine</td>\n",
       "      <td>Upper Body</td>\n",
       "      <td>Pull</td>\n",
       "      <td>Latissimus Dorsi, Biceps</td>\n",
       "      <td>Stand facing a cable machine with the handle a...</td>\n",
       "    </tr>\n",
       "    <tr>\n",
       "      <th>205</th>\n",
       "      <td>205</td>\n",
       "      <td>Face Pull</td>\n",
       "      <td>Strength</td>\n",
       "      <td>Cable Machine</td>\n",
       "      <td>Upper Body</td>\n",
       "      <td>Pull</td>\n",
       "      <td>Rear Deltoids, Trapezius, Rhomboids</td>\n",
       "      <td>Attach a rope handle to a high cable pulley. P...</td>\n",
       "    </tr>\n",
       "    <tr>\n",
       "      <th>206</th>\n",
       "      <td>206</td>\n",
       "      <td>Dumbbell Bench Press</td>\n",
       "      <td>Strength</td>\n",
       "      <td>Dumbbells</td>\n",
       "      <td>Upper Body</td>\n",
       "      <td>Push</td>\n",
       "      <td>Pectorals, Triceps, Deltoids</td>\n",
       "      <td>Lie on a bench with a dumbbell in each hand. P...</td>\n",
       "    </tr>\n",
       "  </tbody>\n",
       "</table>\n",
       "<p>207 rows × 8 columns</p>\n",
       "</div>"
      ],
      "text/plain": [
       "      id         exercise_name   type_of_activity type_of_equipment  \\\n",
       "0      0              Push-Ups           Strength        Bodyweight   \n",
       "1      1                Squats           Strength        Bodyweight   \n",
       "2      2                 Plank  Strength/Mobility        Bodyweight   \n",
       "3      3              Deadlift           Strength           Barbell   \n",
       "4      4           Bicep Curls           Strength         Dumbbells   \n",
       "..   ...                   ...                ...               ...   \n",
       "202  202  Incline Dumbbell Row           Strength         Dumbbells   \n",
       "203  203  Machine Lat Pulldown           Strength           Machine   \n",
       "204  204     One-Arm Cable Row           Strength     Cable Machine   \n",
       "205  205             Face Pull           Strength     Cable Machine   \n",
       "206  206  Dumbbell Bench Press           Strength         Dumbbells   \n",
       "\n",
       "      body_part  type                 muscle_groups_activated  \\\n",
       "0    Upper Body  Push            Pectorals, Triceps, Deltoids   \n",
       "1    Lower Body  Push          Quadriceps, Glutes, Hamstrings   \n",
       "2          Core  Hold  Rectus Abdominis, Transverse Abdominis   \n",
       "3    Lower Body  Pull          Glutes, Hamstrings, Lower Back   \n",
       "4    Upper Body  Pull                        Biceps, Forearms   \n",
       "..          ...   ...                                     ...   \n",
       "202  Upper Body  Pull                Latissimus Dorsi, Biceps   \n",
       "203  Upper Body  Pull                Latissimus Dorsi, Biceps   \n",
       "204  Upper Body  Pull                Latissimus Dorsi, Biceps   \n",
       "205  Upper Body  Pull     Rear Deltoids, Trapezius, Rhomboids   \n",
       "206  Upper Body  Push            Pectorals, Triceps, Deltoids   \n",
       "\n",
       "                                          instructions  \n",
       "0    Start in a high plank position with your hands...  \n",
       "1    Stand with feet shoulder-width apart. Lower yo...  \n",
       "2    Start in a forearm plank position with your el...  \n",
       "3    Stand with feet hip-width apart, barbell in fr...  \n",
       "4    Stand with a dumbbell in each hand, arms fully...  \n",
       "..                                                 ...  \n",
       "202  Lie face down on an incline bench with a dumbb...  \n",
       "203  Sit at a lat pulldown machine with a wide grip...  \n",
       "204  Stand facing a cable machine with the handle a...  \n",
       "205  Attach a rope handle to a high cable pulley. P...  \n",
       "206  Lie on a bench with a dumbbell in each hand. P...  \n",
       "\n",
       "[207 rows x 8 columns]"
      ]
     },
     "execution_count": 27,
     "metadata": {},
     "output_type": "execute_result"
    }
   ],
   "source": [
    "df"
   ]
  },
  {
   "cell_type": "code",
   "execution_count": 28,
   "id": "0d9752d8-ab2f-48d4-a3d9-fa33edb52c15",
   "metadata": {},
   "outputs": [],
   "source": [
    "prompt_template = \"\"\"\n",
    "You emulate a user of our fitness assistant application.\n",
    "Formulate 5 questions this user might ask based on a provided exercise.\n",
    "Make the questions specific to this exercise.\n",
    "The record should contain the answer to the questions, and the questions should\n",
    "be complete and not too short. Use as fewer words as possible from the record. \n",
    "\n",
    "The record:\n",
    "\n",
    "exercise_name: {exercise_name}\n",
    "type_of_activity: {type_of_activity}\n",
    "type_of_equipment: {type_of_equipment}\n",
    "body_part: {body_part}\n",
    "type: {type}\n",
    "muscle_groups_activated: {muscle_groups_activated}\n",
    "instructions: {instructions}\n",
    "\n",
    "Provide the output in parsable JSON without using code blocks:\n",
    "\n",
    "{{\"questions\": [\"question1\", \"question2\", ..., \"question5\"]}}\n",
    "\"\"\".strip()"
   ]
  },
  {
   "cell_type": "code",
   "execution_count": 29,
   "id": "f07f48f9-d611-4a47-bd62-f75731608ad6",
   "metadata": {},
   "outputs": [],
   "source": [
    "prompt = prompt_template.format(**documents[0])"
   ]
  },
  {
   "cell_type": "code",
   "execution_count": 30,
   "id": "de2a1632-4d02-46ff-9ae1-58c9704404b4",
   "metadata": {},
   "outputs": [],
   "source": [
    "def llm(prompt):\n",
    "    response = client.chat.completions.create(\n",
    "        model='gpt-4o-mini',\n",
    "        messages=[{\"role\": \"user\", \"content\": prompt}]\n",
    "    )\n",
    "    \n",
    "    return response.choices[0].message.content"
   ]
  },
  {
   "cell_type": "code",
   "execution_count": 31,
   "id": "6534a160-f763-4d21-8176-4bed6326bbb7",
   "metadata": {},
   "outputs": [],
   "source": [
    "questions = llm(prompt)"
   ]
  },
  {
   "cell_type": "code",
   "execution_count": 32,
   "id": "f7619d05-0e93-4418-bb8e-313eeab8ac28",
   "metadata": {},
   "outputs": [],
   "source": [
    "import json"
   ]
  },
  {
   "cell_type": "code",
   "execution_count": 33,
   "id": "dd42bff8-dfa3-49af-82c9-bcb5c0e8ce3d",
   "metadata": {},
   "outputs": [
    {
     "data": {
      "text/plain": [
       "{'questions': ['What is the primary body position to start performing push-ups?',\n",
       "  'Which muscle groups are primarily activated during push-ups?',\n",
       "  'What movement do you perform after lowering your body in a push-up?',\n",
       "  'Is any equipment needed to perform push-ups?',\n",
       "  'What is the starting position for executing a push-up correctly?']}"
      ]
     },
     "execution_count": 33,
     "metadata": {},
     "output_type": "execute_result"
    }
   ],
   "source": [
    "json.loads(questions)"
   ]
  },
  {
   "cell_type": "code",
   "execution_count": 34,
   "id": "da0d6db9-9ed8-48a6-b483-ead8786a5fb7",
   "metadata": {},
   "outputs": [],
   "source": [
    "def generate_questions(doc):\n",
    "    prompt = prompt_template.format(**doc)\n",
    "\n",
    "    response = client.chat.completions.create(\n",
    "        model='gpt-4o-mini',\n",
    "        messages=[{\"role\": \"user\", \"content\": prompt}]\n",
    "    )\n",
    "\n",
    "    json_response = response.choices[0].message.content\n",
    "    return json_response"
   ]
  },
  {
   "cell_type": "code",
   "execution_count": 35,
   "id": "d95afcdc-9382-4d75-b0e3-3e7cd72feba8",
   "metadata": {},
   "outputs": [],
   "source": [
    "from tqdm.auto import tqdm"
   ]
  },
  {
   "cell_type": "code",
   "execution_count": 36,
   "id": "9eed0e63-1e1d-449a-89e2-d6c3a8af60ef",
   "metadata": {},
   "outputs": [],
   "source": [
    "results = {}"
   ]
  },
  {
   "cell_type": "code",
   "execution_count": 37,
   "id": "d6420880-03d7-4366-9243-7a4add719f0f",
   "metadata": {},
   "outputs": [
    {
     "data": {
      "application/vnd.jupyter.widget-view+json": {
       "model_id": "49b696d09303412eaecd5d79589946f2",
       "version_major": 2,
       "version_minor": 0
      },
      "text/plain": [
       "  0%|          | 0/207 [00:00<?, ?it/s]"
      ]
     },
     "metadata": {},
     "output_type": "display_data"
    },
    {
     "name": "stdout",
     "output_type": "stream",
     "text": [
      "{'id': 0, 'exercise_name': 'Push-Ups', 'type_of_activity': 'Strength', 'type_of_equipment': 'Bodyweight', 'body_part': 'Upper Body', 'type': 'Push', 'muscle_groups_activated': 'Pectorals, Triceps, Deltoids', 'instructions': 'Start in a high plank position with your hands under your shoulders. Lower your body until your chest nearly touches the floor. Push back up to the starting position.'}\n",
      "No 'id' found in document: {'id': 0, 'exercise_name': 'Push-Ups', 'type_of_activity': 'Strength', 'type_of_equipment': 'Bodyweight', 'body_part': 'Upper Body', 'type': 'Push', 'muscle_groups_activated': 'Pectorals, Triceps, Deltoids', 'instructions': 'Start in a high plank position with your hands under your shoulders. Lower your body until your chest nearly touches the floor. Push back up to the starting position.'}\n",
      "{'id': 1, 'exercise_name': 'Squats', 'type_of_activity': 'Strength', 'type_of_equipment': 'Bodyweight', 'body_part': 'Lower Body', 'type': 'Push', 'muscle_groups_activated': 'Quadriceps, Glutes, Hamstrings', 'instructions': 'Stand with feet shoulder-width apart. Lower your body as if sitting back into a chair, keeping your chest up. Return to standing.'}\n",
      "{'id': 2, 'exercise_name': 'Plank', 'type_of_activity': 'Strength/Mobility', 'type_of_equipment': 'Bodyweight', 'body_part': 'Core', 'type': 'Hold', 'muscle_groups_activated': 'Rectus Abdominis, Transverse Abdominis', 'instructions': 'Start in a forearm plank position with your elbows directly under your shoulders. Keep your body in a straight line from head to heels.'}\n",
      "{'id': 3, 'exercise_name': 'Deadlift', 'type_of_activity': 'Strength', 'type_of_equipment': 'Barbell', 'body_part': 'Lower Body', 'type': 'Pull', 'muscle_groups_activated': 'Glutes, Hamstrings, Lower Back', 'instructions': 'Stand with feet hip-width apart, barbell in front of you. Bend at the hips and knees to grasp the bar, then lift it by straightening your hips and knees.'}\n",
      "{'id': 4, 'exercise_name': 'Bicep Curls', 'type_of_activity': 'Strength', 'type_of_equipment': 'Dumbbells', 'body_part': 'Upper Body', 'type': 'Pull', 'muscle_groups_activated': 'Biceps, Forearms', 'instructions': 'Stand with a dumbbell in each hand, arms fully extended. Curl the weights up to your shoulders while keeping your elbows close to your torso.'}\n",
      "{'id': 5, 'exercise_name': 'Kettlebell Swing', 'type_of_activity': 'Cardio/Strength', 'type_of_equipment': 'Kettlebell', 'body_part': 'Core', 'type': 'Push', 'muscle_groups_activated': 'Glutes, Hamstrings, Shoulders', 'instructions': 'Stand with feet slightly wider than shoulder-width. Swing the kettlebell between your legs and then up to shoulder height by driving your hips forward.'}\n",
      "{'id': 6, 'exercise_name': 'Shoulder Press', 'type_of_activity': 'Strength', 'type_of_equipment': 'Dumbbells', 'body_part': 'Upper Body', 'type': 'Push', 'muscle_groups_activated': 'Deltoids, Triceps', 'instructions': 'Hold a dumbbell in each hand at shoulder height, then press them overhead until your arms are fully extended. Lower back to shoulder height.'}\n",
      "{'id': 7, 'exercise_name': 'Lat Pulldown', 'type_of_activity': 'Strength', 'type_of_equipment': 'Machine', 'body_part': 'Upper Body', 'type': 'Pull', 'muscle_groups_activated': 'Latissimus Dorsi, Biceps', 'instructions': 'Sit at the lat pulldown machine, grasp the bar with a wide grip, and pull it down to your chest. Slowly return to the starting position.'}\n",
      "{'id': 8, 'exercise_name': 'Hamstring Stretch', 'type_of_activity': 'Mobility', 'type_of_equipment': 'Bodyweight', 'body_part': 'Lower Body', 'type': 'Stretch', 'muscle_groups_activated': 'Hamstrings', 'instructions': 'Stand upright and place one heel on a bench or step. Lean forward slightly to feel a stretch in the hamstring of the elevated leg.'}\n",
      "{'id': 9, 'exercise_name': 'Jumping Jacks', 'type_of_activity': 'Cardio/Warm-up', 'type_of_equipment': 'Bodyweight', 'body_part': 'Full Body', 'type': 'Push', 'muscle_groups_activated': 'Calves, Deltoids, Glutes', 'instructions': 'Stand upright with feet together and arms at your sides. Jump your feet out while raising your arms overhead, then return to the starting position.'}\n",
      "{'id': 10, 'exercise_name': 'Bench Press', 'type_of_activity': 'Strength', 'type_of_equipment': 'Barbell', 'body_part': 'Upper Body', 'type': 'Push', 'muscle_groups_activated': 'Pectorals, Triceps, Deltoids', 'instructions': 'Lie flat on a bench with a barbell. Lower the bar to your chest and push it back up to the starting position.'}\n",
      "{'id': 11, 'exercise_name': 'Lunges', 'type_of_activity': 'Strength', 'type_of_equipment': 'Bodyweight', 'body_part': 'Lower Body', 'type': 'Push', 'muscle_groups_activated': 'Quadriceps, Glutes, Hamstrings', 'instructions': 'Step forward with one leg and lower your hips until both knees are bent at a 90-degree angle. Push back to the starting position.'}\n",
      "{'id': 12, 'exercise_name': 'Pull-Ups', 'type_of_activity': 'Strength', 'type_of_equipment': 'Bodyweight', 'body_part': 'Upper Body', 'type': 'Pull', 'muscle_groups_activated': 'Latissimus Dorsi, Biceps', 'instructions': 'Grasp a pull-up bar with an overhand grip. Pull your body up until your chin is above the bar, then lower back down.'}\n",
      "{'id': 13, 'exercise_name': 'Mountain Climbers', 'type_of_activity': 'Cardio/Strength', 'type_of_equipment': 'Bodyweight', 'body_part': 'Core', 'type': 'Push', 'muscle_groups_activated': 'Rectus Abdominis, Hip Flexors, Deltoids', 'instructions': 'Start in a plank position and alternate driving your knees towards your chest as quickly as possible.'}\n",
      "{'id': 14, 'exercise_name': 'Leg Raises', 'type_of_activity': 'Strength', 'type_of_equipment': 'Bodyweight', 'body_part': 'Core', 'type': 'Hold', 'muscle_groups_activated': 'Rectus Abdominis, Hip Flexors', 'instructions': 'Lie on your back with your legs extended. Lift your legs until they are perpendicular to the floor, then lower them back down.'}\n",
      "{'id': 15, 'exercise_name': 'Tricep Dips', 'type_of_activity': 'Strength', 'type_of_equipment': 'Bodyweight', 'body_part': 'Upper Body', 'type': 'Push', 'muscle_groups_activated': 'Triceps, Deltoids', 'instructions': 'Place your hands behind you on a bench or chair. Lower your body by bending your elbows, then push back up to the starting position.'}\n",
      "{'id': 16, 'exercise_name': 'Russian Twists', 'type_of_activity': 'Strength', 'type_of_equipment': 'Bodyweight', 'body_part': 'Core', 'type': 'Twist', 'muscle_groups_activated': 'Obliques, Rectus Abdominis', 'instructions': 'Sit on the floor with your knees bent, lean back slightly, and twist your torso to each side, tapping the floor with your hands.'}\n",
      "{'id': 17, 'exercise_name': 'Burpees', 'type_of_activity': 'Cardio/Strength', 'type_of_equipment': 'Bodyweight', 'body_part': 'Full Body', 'type': 'Push', 'muscle_groups_activated': 'Pectorals, Quadriceps, Core', 'instructions': 'Start in a standing position, drop into a squat, kick your feet back into a plank, return to the squat position, and jump up.'}\n",
      "{'id': 18, 'exercise_name': 'Dumbbell Rows', 'type_of_activity': 'Strength', 'type_of_equipment': 'Dumbbells', 'body_part': 'Upper Body', 'type': 'Pull', 'muscle_groups_activated': 'Latissimus Dorsi, Biceps', 'instructions': 'With a dumbbell in each hand, bend at the waist with your back straight. Pull the dumbbells towards your torso, then lower them back down.'}\n",
      "{'id': 19, 'exercise_name': 'Goblet Squats', 'type_of_activity': 'Strength', 'type_of_equipment': 'Kettlebell', 'body_part': 'Lower Body', 'type': 'Push', 'muscle_groups_activated': 'Quadriceps, Glutes, Hamstrings', 'instructions': 'Hold a kettlebell at chest level and squat down as if sitting in a chair. Return to standing.'}\n",
      "{'id': 20, 'exercise_name': 'Glute Bridge', 'type_of_activity': 'Strength', 'type_of_equipment': 'Bodyweight', 'body_part': 'Lower Body', 'type': 'Push', 'muscle_groups_activated': 'Glutes, Hamstrings', 'instructions': 'Lie on your back with knees bent and feet flat on the floor. Lift your hips until your body forms a straight line from shoulders to knees.'}\n",
      "{'id': 21, 'exercise_name': 'Overhead Tricep Extension', 'type_of_activity': 'Strength', 'type_of_equipment': 'Dumbbells', 'body_part': 'Upper Body', 'type': 'Push', 'muscle_groups_activated': 'Triceps', 'instructions': 'Hold a dumbbell with both hands overhead, then lower it behind your head by bending your elbows. Extend your arms back to the starting position.'}\n"
     ]
    },
    {
     "name": "stdout",
     "output_type": "stream",
     "text": [
      "{'id': 22, 'exercise_name': 'Side Plank', 'type_of_activity': 'Strength', 'type_of_equipment': 'Bodyweight', 'body_part': 'Core', 'type': 'Hold', 'muscle_groups_activated': 'Obliques, Shoulders', 'instructions': 'Lie on one side with your legs straight. Lift your hips so your body forms a straight line, supporting yourself on one forearm.'}\n",
      "{'id': 23, 'exercise_name': 'Cable Flyes', 'type_of_activity': 'Strength', 'type_of_equipment': 'Cable Machine', 'body_part': 'Upper Body', 'type': 'Push', 'muscle_groups_activated': 'Pectorals', 'instructions': 'Stand in the middle of a cable machine with handles in each hand. With a slight bend in your elbows, bring your hands together in front of your chest.'}\n",
      "{'id': 24, 'exercise_name': 'Step-Ups', 'type_of_activity': 'Strength', 'type_of_equipment': 'Bodyweight', 'body_part': 'Lower Body', 'type': 'Push', 'muscle_groups_activated': 'Quadriceps, Glutes', 'instructions': 'Step onto a bench or box with one foot, then push through that foot to lift your body up. Step back down and repeat on the other side.'}\n",
      "{'id': 25, 'exercise_name': 'Barbell Rows', 'type_of_activity': 'Strength', 'type_of_equipment': 'Barbell', 'body_part': 'Upper Body', 'type': 'Pull', 'muscle_groups_activated': 'Latissimus Dorsi, Biceps', 'instructions': 'Stand with feet hip-width apart, bend forward at the hips, and row the barbell towards your torso. Lower it back down.'}\n",
      "{'id': 26, 'exercise_name': 'Chest Press', 'type_of_activity': 'Strength', 'type_of_equipment': 'Dumbbells', 'body_part': 'Upper Body', 'type': 'Push', 'muscle_groups_activated': 'Pectorals, Triceps, Deltoids', 'instructions': 'Lie on a bench with a dumbbell in each hand. Press the weights straight up over your chest, then lower them back down.'}\n",
      "{'id': 27, 'exercise_name': 'Box Jumps', 'type_of_activity': 'Cardio/Strength', 'type_of_equipment': 'Bodyweight', 'body_part': 'Lower Body', 'type': 'Push', 'muscle_groups_activated': 'Quadriceps, Glutes, Calves', 'instructions': 'Stand in front of a sturdy box or bench. Jump onto the box, landing softly, then step back down.'}\n",
      "{'id': 28, 'exercise_name': 'Hanging Leg Raises', 'type_of_activity': 'Strength', 'type_of_equipment': 'Bodyweight', 'body_part': 'Core', 'type': 'Hold', 'muscle_groups_activated': 'Rectus Abdominis, Hip Flexors', 'instructions': 'Hang from a pull-up bar and raise your legs until they are parallel to the floor. Lower them back down slowly.'}\n",
      "{'id': 29, 'exercise_name': \"Farmer's Walk\", 'type_of_activity': 'Strength/Cardio', 'type_of_equipment': 'Dumbbells', 'body_part': 'Full Body', 'type': 'Hold', 'muscle_groups_activated': 'Forearms, Shoulders, Core', 'instructions': 'Hold a heavy dumbbell in each hand at your sides and walk forward while maintaining a straight posture.'}\n",
      "{'id': 30, 'exercise_name': 'Calf Raises', 'type_of_activity': 'Strength', 'type_of_equipment': 'Bodyweight', 'body_part': 'Lower Body', 'type': 'Push', 'muscle_groups_activated': 'Calves', 'instructions': 'Stand with the balls of your feet on the edge of a step. Raise your heels as high as possible, then lower them back down.'}\n",
      "{'id': 31, 'exercise_name': 'Battle Ropes', 'type_of_activity': 'Cardio/Strength', 'type_of_equipment': 'Ropes', 'body_part': 'Upper Body', 'type': 'Push', 'muscle_groups_activated': 'Deltoids, Forearms, Core', 'instructions': 'Hold the ends of the ropes in each hand. Alternate waves with your arms to move the ropes up and down as quickly as possible.'}\n",
      "{'id': 32, 'exercise_name': 'Medicine Ball Slams', 'type_of_activity': 'Cardio/Strength', 'type_of_equipment': 'Medicine Ball', 'body_part': 'Full Body', 'type': 'Push', 'muscle_groups_activated': 'Core, Shoulders, Glutes', 'instructions': 'Lift a medicine ball overhead and slam it down on the ground with as much force as possible. Catch it on the rebound and repeat.'}\n",
      "{'id': 33, 'exercise_name': 'Dumbbell Deadlift', 'type_of_activity': 'Strength', 'type_of_equipment': 'Dumbbells', 'body_part': 'Lower Body', 'type': 'Pull', 'muscle_groups_activated': 'Glutes, Hamstrings, Lower Back', 'instructions': 'Stand with feet hip-width apart, holding a dumbbell in each hand. Bend at the hips and knees to lower the weights, then lift back up.'}\n",
      "{'id': 34, 'exercise_name': 'Push Press', 'type_of_activity': 'Strength', 'type_of_equipment': 'Barbell', 'body_part': 'Upper Body', 'type': 'Push', 'muscle_groups_activated': 'Deltoids, Triceps', 'instructions': 'Hold a barbell at shoulder height. Use your legs to help press the bar overhead, then lower it back to the starting position.'}\n",
      "{'id': 35, 'exercise_name': 'Treadmill Run', 'type_of_activity': 'Cardio', 'type_of_equipment': 'Treadmill', 'body_part': 'Lower Body', 'type': 'Push', 'muscle_groups_activated': 'Quadriceps, Hamstrings, Calves', 'instructions': 'Run on a treadmill at a speed and incline that challenges your endurance.'}\n",
      "{'id': 36, 'exercise_name': 'Incline Dumbbell Press', 'type_of_activity': 'Strength', 'type_of_equipment': 'Dumbbells', 'body_part': 'Upper Body', 'type': 'Push', 'muscle_groups_activated': 'Pectorals, Triceps, Deltoids', 'instructions': 'Lie on an incline bench with a dumbbell in each hand. Press the weights up and together over your chest, then lower them back down.'}\n",
      "{'id': 37, 'exercise_name': 'Renegade Rows', 'type_of_activity': 'Strength', 'type_of_equipment': 'Dumbbells', 'body_part': 'Upper Body', 'type': 'Pull', 'muscle_groups_activated': 'Latissimus Dorsi, Biceps, Core', 'instructions': 'Start in a plank position with a dumbbell in each hand. Row one dumbbell towards your torso while balancing on the other hand.'}\n",
      "{'id': 38, 'exercise_name': 'Leg Press', 'type_of_activity': 'Strength', 'type_of_equipment': 'Machine', 'body_part': 'Lower Body', 'type': 'Push', 'muscle_groups_activated': 'Quadriceps, Glutes, Hamstrings', 'instructions': 'Sit on a leg press machine with your feet shoulder-width apart on the platform. Push the platform away by extending your legs.'}\n",
      "{'id': 39, 'exercise_name': 'Cable Tricep Pushdown', 'type_of_activity': 'Strength', 'type_of_equipment': 'Cable Machine', 'body_part': 'Upper Body', 'type': 'Push', 'muscle_groups_activated': 'Triceps', 'instructions': 'Stand facing a cable machine with a high pulley. Push the handle downwards until your arms are fully extended.'}\n",
      "{'id': 40, 'exercise_name': 'Single-Leg Deadlift', 'type_of_activity': 'Strength', 'type_of_equipment': 'Dumbbells', 'body_part': 'Lower Body', 'type': 'Pull', 'muscle_groups_activated': 'Hamstrings, Glutes, Lower Back', 'instructions': 'Stand on one leg, holding a dumbbell in the opposite hand. Bend at the hips to lower the weight while extending the free leg behind you.'}\n",
      "{'id': 41, 'exercise_name': 'Inverted Rows', 'type_of_activity': 'Strength', 'type_of_equipment': 'Bodyweight', 'body_part': 'Upper Body', 'type': 'Pull', 'muscle_groups_activated': 'Latissimus Dorsi, Biceps', 'instructions': 'Lie under a bar or suspension trainer, pull your chest towards the bar while keeping your body straight, then lower back down.'}\n",
      "{'id': 42, 'exercise_name': 'Pallof Press', 'type_of_activity': 'Strength/Mobility', 'type_of_equipment': 'Cable Machine', 'body_part': 'Core', 'type': 'Hold', 'muscle_groups_activated': 'Obliques, Transverse Abdominis', 'instructions': 'Stand sideways to a cable machine with the handle at chest height. Push the handle straight out in front of you, resisting the rotation.'}\n",
      "{'id': 43, 'exercise_name': 'Kettlebell Deadlift', 'type_of_activity': 'Strength', 'type_of_equipment': 'Kettlebell', 'body_part': 'Lower Body', 'type': 'Pull', 'muscle_groups_activated': 'Glutes, Hamstrings, Lower Back', 'instructions': 'Stand with feet shoulder-width apart, kettlebell between your feet. Bend at the hips and knees to lift the kettlebell off the ground.'}\n",
      "{'id': 44, 'exercise_name': 'Hanging Knee Tucks', 'type_of_activity': 'Strength', 'type_of_equipment': 'Bodyweight', 'body_part': 'Core', 'type': 'Hold', 'muscle_groups_activated': 'Rectus Abdominis, Hip Flexors', 'instructions': 'Hang from a pull-up bar and tuck your knees towards your chest, then slowly lower them back down.'}\n",
      "{'id': 45, 'exercise_name': 'Resistance Band Pull Aparts', 'type_of_activity': 'Strength', 'type_of_equipment': 'Resistance Band', 'body_part': 'Upper Body', 'type': 'Pull', 'muscle_groups_activated': 'Rear Deltoids, Trapezius, Rhomboids', 'instructions': 'Hold a resistance band in front of you with arms extended. Pull the band apart by bringing your hands out to your sides.'}\n"
     ]
    },
    {
     "name": "stdout",
     "output_type": "stream",
     "text": [
      "{'id': 46, 'exercise_name': 'Bulgarian Split Squats', 'type_of_activity': 'Strength', 'type_of_equipment': 'Bodyweight', 'body_part': 'Lower Body', 'type': 'Push', 'muscle_groups_activated': 'Quadriceps, Glutes, Hamstrings', 'instructions': 'Stand lunge-style with one foot behind you on a bench. Lower your hips until your front thigh is parallel to the floor, then push back up.'}\n",
      "{'id': 47, 'exercise_name': 'Seated Shoulder Press', 'type_of_activity': 'Strength', 'type_of_equipment': 'Dumbbells', 'body_part': 'Upper Body', 'type': 'Push', 'muscle_groups_activated': 'Deltoids, Triceps', 'instructions': 'Sit on a bench with a dumbbell in each hand at shoulder height. Press the weights overhead until your arms are fully extended.'}\n",
      "{'id': 48, 'exercise_name': 'Incline Push-Ups', 'type_of_activity': 'Strength', 'type_of_equipment': 'Bodyweight', 'body_part': 'Upper Body', 'type': 'Push', 'muscle_groups_activated': 'Pectorals, Triceps, Deltoids', 'instructions': 'Place your hands on an elevated surface like a bench. Lower your chest towards the surface, then push back up.'}\n",
      "{'id': 49, 'exercise_name': 'Hip Thrusts', 'type_of_activity': 'Strength', 'type_of_equipment': 'Barbell', 'body_part': 'Lower Body', 'type': 'Push', 'muscle_groups_activated': 'Glutes, Hamstrings', 'instructions': 'Sit on the ground with your upper back against a bench, barbell across your hips. Lift your hips towards the ceiling by squeezing your glutes.'}\n",
      "{'id': 50, 'exercise_name': 'Barbell Curl', 'type_of_activity': 'Strength', 'type_of_equipment': 'Barbell', 'body_part': 'Upper Body', 'type': 'Pull', 'muscle_groups_activated': 'Biceps, Forearms', 'instructions': 'Stand with feet shoulder-width apart, holding a barbell with an underhand grip. Curl the bar towards your shoulders, then lower it back down.'}\n",
      "{'id': 51, 'exercise_name': 'Cable Row', 'type_of_activity': 'Strength', 'type_of_equipment': 'Cable Machine', 'body_part': 'Upper Body', 'type': 'Pull', 'muscle_groups_activated': 'Latissimus Dorsi, Biceps', 'instructions': 'Sit at a cable row machine with feet braced. Pull the handle towards your torso, then slowly return to the starting position.'}\n",
      "{'id': 52, 'exercise_name': 'Plank Shoulder Taps', 'type_of_activity': 'Strength/Mobility', 'type_of_equipment': 'Bodyweight', 'body_part': 'Core', 'type': 'Hold', 'muscle_groups_activated': 'Rectus Abdominis, Obliques, Deltoids', 'instructions': 'Start in a high plank position. Tap one hand to the opposite shoulder, then switch sides, while keeping your body stable.'}\n",
      "{'id': 53, 'exercise_name': 'Dumbbell Lateral Raise', 'type_of_activity': 'Strength', 'type_of_equipment': 'Dumbbells', 'body_part': 'Upper Body', 'type': 'Push', 'muscle_groups_activated': 'Deltoids', 'instructions': 'Stand with a dumbbell in each hand, arms at your sides. Raise your arms out to the sides until they are parallel to the floor.'}\n",
      "{'id': 54, 'exercise_name': 'Wall Sit', 'type_of_activity': 'Strength/Mobility', 'type_of_equipment': 'Bodyweight', 'body_part': 'Lower Body', 'type': 'Hold', 'muscle_groups_activated': 'Quadriceps, Glutes', 'instructions': 'Lean against a wall with your feet shoulder-width apart. Slide down until your knees are at a 90-degree angle and hold the position.'}\n",
      "{'id': 55, 'exercise_name': 'Spider Plank', 'type_of_activity': 'Strength', 'type_of_equipment': 'Bodyweight', 'body_part': 'Core', 'type': 'Hold', 'muscle_groups_activated': 'Rectus Abdominis, Obliques', 'instructions': 'Start in a forearm plank position. Bring one knee to the outside of your elbow, then return to the starting position and repeat on the other side.'}\n",
      "{'id': 56, 'exercise_name': 'Sumo Deadlift', 'type_of_activity': 'Strength', 'type_of_equipment': 'Barbell', 'body_part': 'Lower Body', 'type': 'Pull', 'muscle_groups_activated': 'Glutes, Hamstrings, Lower Back', 'instructions': 'Stand with a wide stance, toes pointing out. Grasp the barbell with hands inside your knees, and lift it by extending your hips and knees.'}\n",
      "{'id': 57, 'exercise_name': 'Single Arm Dumbbell Row', 'type_of_activity': 'Strength', 'type_of_equipment': 'Dumbbell', 'body_part': 'Upper Body', 'type': 'Pull', 'muscle_groups_activated': 'Latissimus Dorsi, Biceps', 'instructions': 'Place one knee and hand on a bench for support, row the dumbbell towards your torso with the other hand.'}\n",
      "{'id': 58, 'exercise_name': 'Kettlebell Clean and Press', 'type_of_activity': 'Strength', 'type_of_equipment': 'Kettlebell', 'body_part': 'Full Body', 'type': 'Push', 'muscle_groups_activated': 'Glutes, Shoulders, Triceps', 'instructions': 'Swing the kettlebell up to shoulder height, then press it overhead. Lower it back down and repeat.'}\n",
      "{'id': 59, 'exercise_name': 'Jump Rope', 'type_of_activity': 'Cardio', 'type_of_equipment': 'Jump Rope', 'body_part': 'Full Body', 'type': 'Push', 'muscle_groups_activated': 'Calves, Shoulders', 'instructions': 'Jump over the rope as it passes under your feet, keeping a steady rhythm.'}\n",
      "{'id': 60, 'exercise_name': 'Side Lunge', 'type_of_activity': 'Strength', 'type_of_equipment': 'Bodyweight', 'body_part': 'Lower Body', 'type': 'Push', 'muscle_groups_activated': 'Quadriceps, Glutes, Adductors', 'instructions': 'Step out to the side, bending one knee while keeping the other leg straight. Push back to the starting position.'}\n",
      "{'id': 61, 'exercise_name': 'Machine Chest Fly', 'type_of_activity': 'Strength', 'type_of_equipment': 'Machine', 'body_part': 'Upper Body', 'type': 'Push', 'muscle_groups_activated': 'Pectorals', 'instructions': 'Sit at a chest fly machine, grasp the handles, and bring them together in front of your chest, then return to the starting position.'}\n",
      "{'id': 62, 'exercise_name': 'Hack Squat', 'type_of_activity': 'Strength', 'type_of_equipment': 'Machine', 'body_part': 'Lower Body', 'type': 'Push', 'muscle_groups_activated': 'Quadriceps, Glutes, Hamstrings', 'instructions': 'Stand on a hack squat machine platform, lower your body by bending your knees, then push back up to the starting position.'}\n",
      "{'id': 63, 'exercise_name': 'Decline Push-Ups', 'type_of_activity': 'Strength', 'type_of_equipment': 'Bodyweight', 'body_part': 'Upper Body', 'type': 'Push', 'muscle_groups_activated': 'Pectorals, Triceps, Deltoids', 'instructions': 'Place your feet on an elevated surface, hands on the floor. Lower your chest towards the floor, then push back up.'}\n",
      "{'id': 64, 'exercise_name': 'Band Face Pull', 'type_of_activity': 'Strength', 'type_of_equipment': 'Resistance Band', 'body_part': 'Upper Body', 'type': 'Pull', 'muscle_groups_activated': 'Rear Deltoids, Trapezius, Rhomboids', 'instructions': 'Attach a resistance band to a high anchor. Pull the band towards your face, leading with your elbows.'}\n",
      "{'id': 65, 'exercise_name': 'Ab Wheel Rollout', 'type_of_activity': 'Strength', 'type_of_equipment': 'Ab Wheel', 'body_part': 'Core', 'type': 'Push', 'muscle_groups_activated': 'Rectus Abdominis, Hip Flexors', 'instructions': 'Kneel on the floor with an ab wheel in front of you. Roll the wheel forward while keeping your core tight, then roll back.'}\n",
      "{'id': 66, 'exercise_name': 'Side Leg Raises', 'type_of_activity': 'Mobility', 'type_of_equipment': 'Bodyweight', 'body_part': 'Lower Body', 'type': 'Hold', 'muscle_groups_activated': 'Glutes, Hip Flexors', 'instructions': 'Lie on your side with legs straight. Lift your top leg towards the ceiling, then lower it back down.'}\n",
      "{'id': 67, 'exercise_name': 'Romanian Deadlift', 'type_of_activity': 'Strength', 'type_of_equipment': 'Barbell', 'body_part': 'Lower Body', 'type': 'Pull', 'muscle_groups_activated': 'Hamstrings, Glutes, Lower Back', 'instructions': 'Hold a barbell in front of your thighs. Bend at the hips to lower the bar down your legs, then return to standing.'}\n",
      "{'id': 68, 'exercise_name': 'Arnold Press', 'type_of_activity': 'Strength', 'type_of_equipment': 'Dumbbells', 'body_part': 'Upper Body', 'type': 'Push', 'muscle_groups_activated': 'Deltoids, Triceps', 'instructions': 'Hold dumbbells at shoulder height, palms facing you. Rotate your arms as you press the weights overhead, ending with palms facing forward.'}\n",
      "{'id': 69, 'exercise_name': 'Landmine Press', 'type_of_activity': 'Strength', 'type_of_equipment': 'Barbell', 'body_part': 'Upper Body', 'type': 'Push', 'muscle_groups_activated': 'Pectorals, Deltoids, Triceps', 'instructions': 'Hold the end of a barbell anchored in a landmine attachment. Press the bar overhead with one arm.'}\n"
     ]
    },
    {
     "name": "stdout",
     "output_type": "stream",
     "text": [
      "{'id': 70, 'exercise_name': 'Tuck Jumps', 'type_of_activity': 'Cardio/Strength', 'type_of_equipment': 'Bodyweight', 'body_part': 'Lower Body', 'type': 'Push', 'muscle_groups_activated': 'Quadriceps, Glutes, Calves', 'instructions': 'Jump straight up and tuck your knees towards your chest, then land softly and repeat.'}\n",
      "{'id': 71, 'exercise_name': 'Windshield Wipers', 'type_of_activity': 'Strength', 'type_of_equipment': 'Bodyweight', 'body_part': 'Core', 'type': 'Hold', 'muscle_groups_activated': 'Obliques, Rectus Abdominis', 'instructions': 'Lie on your back with legs extended towards the ceiling. Rotate your legs side to side like windshield wipers.'}\n",
      "{'id': 72, 'exercise_name': 'Dumbbell Shrugs', 'type_of_activity': 'Strength', 'type_of_equipment': 'Dumbbells', 'body_part': 'Upper Body', 'type': 'Hold', 'muscle_groups_activated': 'Trapezius', 'instructions': 'Stand with a dumbbell in each hand at your sides. Shrug your shoulders towards your ears, then lower them back down.'}\n",
      "{'id': 73, 'exercise_name': 'Sled Push', 'type_of_activity': 'Cardio/Strength', 'type_of_equipment': 'Sled', 'body_part': 'Full Body', 'type': 'Push', 'muscle_groups_activated': 'Quadriceps, Glutes, Shoulders', 'instructions': 'Push a weighted sled across a flat surface, keeping your back straight and core tight.'}\n",
      "{'id': 74, 'exercise_name': 'Cable Bicep Curl', 'type_of_activity': 'Strength', 'type_of_equipment': 'Cable Machine', 'body_part': 'Upper Body', 'type': 'Pull', 'muscle_groups_activated': 'Biceps, Forearms', 'instructions': 'Stand facing a cable machine with the handle attached to a low pulley. Curl the handle towards your shoulders, then lower it back down.'}\n",
      "{'id': 75, 'exercise_name': 'Dumbbell Kickback', 'type_of_activity': 'Strength', 'type_of_equipment': 'Dumbbells', 'body_part': 'Upper Body', 'type': 'Push', 'muscle_groups_activated': 'Triceps', 'instructions': 'Bend at the waist with a dumbbell in each hand. Extend your arms straight back, then return to the starting position.'}\n",
      "{'id': 76, 'exercise_name': 'Flutter Kicks', 'type_of_activity': 'Strength', 'type_of_equipment': 'Bodyweight', 'body_part': 'Core', 'type': 'Hold', 'muscle_groups_activated': 'Rectus Abdominis, Hip Flexors', 'instructions': 'Lie on your back with legs extended. Lift your feet off the ground and alternate kicking them up and down.'}\n",
      "{'id': 77, 'exercise_name': 'High Knees', 'type_of_activity': 'Cardio', 'type_of_equipment': 'Bodyweight', 'body_part': 'Full Body', 'type': 'Push', 'muscle_groups_activated': 'Quadriceps, Hip Flexors, Calves', 'instructions': 'Run in place while driving your knees towards your chest as high as possible.'}\n",
      "{'id': 78, 'exercise_name': 'Sledgehammer Slams', 'type_of_activity': 'Cardio/Strength', 'type_of_equipment': 'Sledgehammer', 'body_part': 'Full Body', 'type': 'Push', 'muscle_groups_activated': 'Core, Shoulders, Glutes', 'instructions': 'Lift a sledgehammer overhead and slam it down onto a tire or other soft surface.'}\n",
      "{'id': 79, 'exercise_name': 'Lateral Step-Ups', 'type_of_activity': 'Strength', 'type_of_equipment': 'Bodyweight', 'body_part': 'Lower Body', 'type': 'Push', 'muscle_groups_activated': 'Quadriceps, Glutes, Hamstrings', 'instructions': 'Step up onto a bench or box laterally with one foot, then bring the other foot up to meet it. Step back down and repeat.'}\n",
      "{'id': 80, 'exercise_name': 'Cable Chest Press', 'type_of_activity': 'Strength', 'type_of_equipment': 'Cable Machine', 'body_part': 'Upper Body', 'type': 'Push', 'muscle_groups_activated': 'Pectorals, Triceps, Deltoids', 'instructions': 'Stand in front of a cable machine with handles at chest height. Press the handles forward, then return to the starting position.'}\n",
      "{'id': 81, 'exercise_name': 'TRX Rows', 'type_of_activity': 'Strength', 'type_of_equipment': 'TRX', 'body_part': 'Upper Body', 'type': 'Pull', 'muscle_groups_activated': 'Latissimus Dorsi, Biceps', 'instructions': 'Grip the TRX handles and lean back, keeping your body straight. Pull your chest towards the handles, then lower back down.'}\n",
      "{'id': 82, 'exercise_name': 'Medicine Ball Russian Twists', 'type_of_activity': 'Strength', 'type_of_equipment': 'Medicine Ball', 'body_part': 'Core', 'type': 'Twist', 'muscle_groups_activated': 'Obliques, Rectus Abdominis', 'instructions': 'Sit on the floor with knees bent, holding a medicine ball. Twist your torso to each side, tapping the ball on the floor.'}\n",
      "{'id': 83, 'exercise_name': 'Pendlay Row', 'type_of_activity': 'Strength', 'type_of_equipment': 'Barbell', 'body_part': 'Upper Body', 'type': 'Pull', 'muscle_groups_activated': 'Latissimus Dorsi, Biceps', 'instructions': 'Bend over with a barbell on the floor. Row the barbell to your torso, then lower it back to the floor each rep.'}\n",
      "{'id': 84, 'exercise_name': 'Side Plank with Leg Lift', 'type_of_activity': 'Strength', 'type_of_equipment': 'Bodyweight', 'body_part': 'Core', 'type': 'Hold', 'muscle_groups_activated': 'Obliques, Glutes, Shoulders', 'instructions': 'In a side plank position, lift your top leg towards the ceiling, then lower it back down.'}\n",
      "{'id': 85, 'exercise_name': 'Hip Abduction', 'type_of_activity': 'Strength', 'type_of_equipment': 'Machine', 'body_part': 'Lower Body', 'type': 'Push', 'muscle_groups_activated': 'Glutes, Hip Flexors', 'instructions': 'Sit on a hip abduction machine and press your legs apart against the resistance, then return to the starting position.'}\n",
      "{'id': 86, 'exercise_name': 'Dumbbell Front Raise', 'type_of_activity': 'Strength', 'type_of_equipment': 'Dumbbells', 'body_part': 'Upper Body', 'type': 'Push', 'muscle_groups_activated': 'Deltoids', 'instructions': 'Stand with a dumbbell in each hand, palms facing your thighs. Raise your arms in front of you until they are parallel to the floor.'}\n",
      "{'id': 87, 'exercise_name': 'Chin-Ups', 'type_of_activity': 'Strength', 'type_of_equipment': 'Bodyweight', 'body_part': 'Upper Body', 'type': 'Pull', 'muscle_groups_activated': 'Latissimus Dorsi, Biceps', 'instructions': 'Grip a pull-up bar with an underhand grip. Pull your body up until your chin is above the bar, then lower back down.'}\n",
      "{'id': 88, 'exercise_name': 'Box Squat', 'type_of_activity': 'Strength', 'type_of_equipment': 'Barbell', 'body_part': 'Lower Body', 'type': 'Push', 'muscle_groups_activated': 'Quadriceps, Glutes, Hamstrings', 'instructions': 'Stand in front of a box with a barbell on your shoulders. Squat down until you sit on the box, then stand back up.'}\n",
      "{'id': 89, 'exercise_name': 'Battle Rope Waves', 'type_of_activity': 'Cardio/Strength', 'type_of_equipment': 'Ropes', 'body_part': 'Upper Body', 'type': 'Push', 'muscle_groups_activated': 'Deltoids, Forearms, Core', 'instructions': 'Hold the ends of the ropes and create waves by alternating your arms up and down rapidly.'}\n",
      "{'id': 90, 'exercise_name': 'Zercher Squat', 'type_of_activity': 'Strength', 'type_of_equipment': 'Barbell', 'body_part': 'Lower Body', 'type': 'Push', 'muscle_groups_activated': 'Quadriceps, Glutes, Hamstrings', 'instructions': 'Hold a barbell in the crook of your elbows. Squat down until your thighs are parallel to the floor, then push back up.'}\n",
      "{'id': 91, 'exercise_name': 'Walking Lunges', 'type_of_activity': 'Strength', 'type_of_equipment': 'Bodyweight', 'body_part': 'Lower Body', 'type': 'Push', 'muscle_groups_activated': 'Quadriceps, Glutes, Hamstrings', 'instructions': 'Step forward into a lunge, then bring your back foot forward to step into the next lunge.'}\n",
      "{'id': 92, 'exercise_name': 'Kettlebell Snatch', 'type_of_activity': 'Strength', 'type_of_equipment': 'Kettlebell', 'body_part': 'Full Body', 'type': 'Push', 'muscle_groups_activated': 'Glutes, Shoulders, Triceps', 'instructions': 'Swing a kettlebell between your legs, then pull it overhead in one motion.'}\n",
      "{'id': 93, 'exercise_name': 'Single-Leg Glute Bridge', 'type_of_activity': 'Strength', 'type_of_equipment': 'Bodyweight', 'body_part': 'Lower Body', 'type': 'Push', 'muscle_groups_activated': 'Glutes, Hamstrings', 'instructions': 'Lie on your back with one foot on the ground and the other leg extended. Lift your hips towards the ceiling.'}\n",
      "{'id': 94, 'exercise_name': 'TRX Push-Ups', 'type_of_activity': 'Strength', 'type_of_equipment': 'TRX', 'body_part': 'Upper Body', 'type': 'Push', 'muscle_groups_activated': 'Pectorals, Triceps, Deltoids', 'instructions': 'Perform push-ups with your hands in the TRX handles, keeping your body straight.'}\n"
     ]
    },
    {
     "name": "stdout",
     "output_type": "stream",
     "text": [
      "{'id': 95, 'exercise_name': 'Machine Leg Curl', 'type_of_activity': 'Strength', 'type_of_equipment': 'Machine', 'body_part': 'Lower Body', 'type': 'Pull', 'muscle_groups_activated': 'Hamstrings', 'instructions': 'Sit on a leg curl machine and curl the pad down towards your glutes, then return to the starting position.'}\n",
      "{'id': 96, 'exercise_name': 'Incline Bench Press', 'type_of_activity': 'Strength', 'type_of_equipment': 'Barbell', 'body_part': 'Upper Body', 'type': 'Push', 'muscle_groups_activated': 'Pectorals, Triceps, Deltoids', 'instructions': 'Lie on an incline bench with a barbell. Press the bar up and together over your chest, then lower it back down.'}\n",
      "{'id': 97, 'exercise_name': 'Resistance Band Deadlift', 'type_of_activity': 'Strength', 'type_of_equipment': 'Resistance Band', 'body_part': 'Lower Body', 'type': 'Pull', 'muscle_groups_activated': 'Glutes, Hamstrings, Lower Back', 'instructions': 'Stand on a resistance band with feet shoulder-width apart. Bend at the hips and knees to lift the band off the ground.'}\n",
      "{'id': 98, 'exercise_name': 'Decline Bench Press', 'type_of_activity': 'Strength', 'type_of_equipment': 'Barbell', 'body_part': 'Upper Body', 'type': 'Push', 'muscle_groups_activated': 'Pectorals, Triceps, Deltoids', 'instructions': 'Lie on a decline bench with a barbell. Lower the bar to your chest, then press it back up.'}\n",
      "{'id': 99, 'exercise_name': 'Dumbbell Step-Up', 'type_of_activity': 'Strength', 'type_of_equipment': 'Dumbbells', 'body_part': 'Lower Body', 'type': 'Push', 'muscle_groups_activated': 'Quadriceps, Glutes, Hamstrings', 'instructions': 'Step onto a bench with one foot while holding dumbbells, then bring the other foot up to meet it.'}\n",
      "{'id': 100, 'exercise_name': 'Cable Lateral Raise', 'type_of_activity': 'Strength', 'type_of_equipment': 'Cable Machine', 'body_part': 'Upper Body', 'type': 'Push', 'muscle_groups_activated': 'Deltoids', 'instructions': 'Stand next to a cable machine with the handle at the low pulley. Raise your arm out to the side until it is parallel to the floor.'}\n",
      "{'id': 101, 'exercise_name': 'Reverse Lunge', 'type_of_activity': 'Strength', 'type_of_equipment': 'Bodyweight', 'body_part': 'Lower Body', 'type': 'Push', 'muscle_groups_activated': 'Quadriceps, Glutes, Hamstrings', 'instructions': 'Step backward into a lunge, lowering your hips until both knees are at a 90-degree angle.'}\n",
      "{'id': 102, 'exercise_name': 'Toe Touches', 'type_of_activity': 'Strength', 'type_of_equipment': 'Bodyweight', 'body_part': 'Core', 'type': 'Hold', 'muscle_groups_activated': 'Rectus Abdominis, Obliques', 'instructions': 'Lie on your back with legs extended towards the ceiling. Reach your hands towards your toes.'}\n",
      "{'id': 103, 'exercise_name': 'Machine Leg Extension', 'type_of_activity': 'Strength', 'type_of_equipment': 'Machine', 'body_part': 'Lower Body', 'type': 'Push', 'muscle_groups_activated': 'Quadriceps', 'instructions': 'Sit on a leg extension machine and extend your legs until they are straight, then return to the starting position.'}\n",
      "{'id': 104, 'exercise_name': 'Dumbbell Pullover', 'type_of_activity': 'Strength', 'type_of_equipment': 'Dumbbell', 'body_part': 'Upper Body', 'type': 'Pull', 'muscle_groups_activated': 'Latissimus Dorsi, Pectorals, Triceps', 'instructions': 'Lie on a bench holding a dumbbell over your chest. Lower the weight behind your head, then pull it back up.'}\n",
      "{'id': 105, 'exercise_name': 'Barbell Shrug', 'type_of_activity': 'Strength', 'type_of_equipment': 'Barbell', 'body_part': 'Upper Body', 'type': 'Hold', 'muscle_groups_activated': 'Trapezius', 'instructions': 'Stand with feet shoulder-width apart, holding a barbell. Shrug your shoulders towards your ears, then lower them back down.'}\n",
      "{'id': 106, 'exercise_name': 'T-Bar Row', 'type_of_activity': 'Strength', 'type_of_equipment': 'Barbell', 'body_part': 'Upper Body', 'type': 'Pull', 'muscle_groups_activated': 'Latissimus Dorsi, Biceps', 'instructions': 'Stand with feet shoulder-width apart, holding a T-bar. Row the weight towards your torso, then lower it back down.'}\n",
      "{'id': 107, 'exercise_name': 'Bulgarian Deadlift', 'type_of_activity': 'Strength', 'type_of_equipment': 'Dumbbells', 'body_part': 'Lower Body', 'type': 'Pull', 'muscle_groups_activated': 'Hamstrings, Glutes, Lower Back', 'instructions': 'Stand on one leg holding a dumbbell in each hand. Bend at the hips to lower the weights, then lift back up.'}\n",
      "{'id': 108, 'exercise_name': 'Pistol Squat', 'type_of_activity': 'Strength', 'type_of_equipment': 'Bodyweight', 'body_part': 'Lower Body', 'type': 'Push', 'muscle_groups_activated': 'Quadriceps, Glutes, Hamstrings', 'instructions': 'Stand on one leg with the other leg extended in front of you. Lower your hips until your thigh is parallel to the floor, then push back up.'}\n",
      "{'id': 109, 'exercise_name': 'Seated Leg Curl', 'type_of_activity': 'Strength', 'type_of_equipment': 'Machine', 'body_part': 'Lower Body', 'type': 'Pull', 'muscle_groups_activated': 'Hamstrings', 'instructions': 'Sit on a leg curl machine and curl the pad down towards your glutes, then return to the starting position.'}\n",
      "{'id': 110, 'exercise_name': 'Russian Kettlebell Swing', 'type_of_activity': 'Cardio/Strength', 'type_of_equipment': 'Kettlebell', 'body_part': 'Core', 'type': 'Push', 'muscle_groups_activated': 'Glutes, Hamstrings, Shoulders', 'instructions': 'Swing the kettlebell between your legs and up to shoulder height, driving the movement with your hips.'}\n",
      "{'id': 111, 'exercise_name': 'Incline Dumbbell Curl', 'type_of_activity': 'Strength', 'type_of_equipment': 'Dumbbells', 'body_part': 'Upper Body', 'type': 'Pull', 'muscle_groups_activated': 'Biceps, Forearms', 'instructions': 'Sit on an incline bench with a dumbbell in each hand. Curl the weights up towards your shoulders, then lower them back down.'}\n",
      "{'id': 112, 'exercise_name': 'Decline Sit-Ups', 'type_of_activity': 'Strength', 'type_of_equipment': 'Bodyweight', 'body_part': 'Core', 'type': 'Hold', 'muscle_groups_activated': 'Rectus Abdominis, Hip Flexors', 'instructions': 'Lie on a decline bench and sit up, bringing your chest towards your knees.'}\n",
      "{'id': 113, 'exercise_name': 'Side Plank Dips', 'type_of_activity': 'Strength', 'type_of_equipment': 'Bodyweight', 'body_part': 'Core', 'type': 'Hold', 'muscle_groups_activated': 'Obliques, Shoulders', 'instructions': 'Start in a side plank position. Lower your hips towards the floor, then lift them back up.'}\n",
      "{'id': 114, 'exercise_name': 'Single Arm Kettlebell Swing', 'type_of_activity': 'Strength', 'type_of_equipment': 'Kettlebell', 'body_part': 'Core', 'type': 'Push', 'muscle_groups_activated': 'Glutes, Hamstrings, Shoulders', 'instructions': 'Swing the kettlebell between your legs and up to shoulder height with one hand, driving the movement with your hips.'}\n",
      "{'id': 115, 'exercise_name': 'Jumping Squats', 'type_of_activity': 'Cardio/Strength', 'type_of_equipment': 'Bodyweight', 'body_part': 'Lower Body', 'type': 'Push', 'muscle_groups_activated': 'Quadriceps, Glutes, Calves', 'instructions': 'Lower into a squat, then explode upwards into a jump. Land softly and repeat.'}\n",
      "{'id': 116, 'exercise_name': 'Cable Chest Fly', 'type_of_activity': 'Strength', 'type_of_equipment': 'Cable Machine', 'body_part': 'Upper Body', 'type': 'Push', 'muscle_groups_activated': 'Pectorals', 'instructions': 'Stand in the middle of a cable machine with handles in each hand. Bring the handles together in front of your chest, then return to the starting position.'}\n",
      "{'id': 117, 'exercise_name': 'Dumbbell Tricep Extension', 'type_of_activity': 'Strength', 'type_of_equipment': 'Dumbbells', 'body_part': 'Upper Body', 'type': 'Push', 'muscle_groups_activated': 'Triceps', 'instructions': 'Hold a dumbbell with both hands overhead, then lower it behind your head by bending your elbows. Extend your arms back to the starting position.'}\n",
      "{'id': 118, 'exercise_name': 'Leg Curl', 'type_of_activity': 'Strength', 'type_of_equipment': 'Machine', 'body_part': 'Lower Body', 'type': 'Pull', 'muscle_groups_activated': 'Hamstrings', 'instructions': 'Lie face down on a leg curl machine and curl the pad towards your glutes, then return to the starting position.'}\n",
      "{'id': 119, 'exercise_name': 'One-Arm Push-Up', 'type_of_activity': 'Strength', 'type_of_equipment': 'Bodyweight', 'body_part': 'Upper Body', 'type': 'Push', 'muscle_groups_activated': 'Pectorals, Triceps, Deltoids', 'instructions': 'Start in a push-up position with one hand behind your back. Lower your body until your chest nearly touches the floor, then push back up.'}\n"
     ]
    },
    {
     "name": "stdout",
     "output_type": "stream",
     "text": [
      "{'id': 120, 'exercise_name': 'Machine Shoulder Press', 'type_of_activity': 'Strength', 'type_of_equipment': 'Machine', 'body_part': 'Upper Body', 'type': 'Push', 'muscle_groups_activated': 'Deltoids, Triceps', 'instructions': 'Sit on a shoulder press machine, grasp the handles, and press them overhead until your arms are fully extended.'}\n",
      "{'id': 121, 'exercise_name': 'Sumo Squat', 'type_of_activity': 'Strength', 'type_of_equipment': 'Bodyweight', 'body_part': 'Lower Body', 'type': 'Push', 'muscle_groups_activated': 'Quadriceps, Glutes, Hamstrings', 'instructions': 'Stand with feet wider than shoulder-width apart, toes pointing out. Lower your hips until your thighs are parallel to the floor, then push back up.'}\n",
      "{'id': 122, 'exercise_name': 'Resistance Band Squat', 'type_of_activity': 'Strength', 'type_of_equipment': 'Resistance Band', 'body_part': 'Lower Body', 'type': 'Push', 'muscle_groups_activated': 'Quadriceps, Glutes, Hamstrings', 'instructions': 'Stand on a resistance band with feet shoulder-width apart. Squat down while holding the band at shoulder height.'}\n",
      "{'id': 123, 'exercise_name': 'One-Legged Squat', 'type_of_activity': 'Strength', 'type_of_equipment': 'Bodyweight', 'body_part': 'Lower Body', 'type': 'Push', 'muscle_groups_activated': 'Quadriceps, Glutes, Hamstrings', 'instructions': 'Stand on one leg with the other leg extended in front of you. Lower your hips until your thigh is parallel to the floor, then push back up.'}\n",
      "{'id': 124, 'exercise_name': 'Landmine Row', 'type_of_activity': 'Strength', 'type_of_equipment': 'Barbell', 'body_part': 'Upper Body', 'type': 'Pull', 'muscle_groups_activated': 'Latissimus Dorsi, Biceps', 'instructions': 'Place one end of a barbell in a landmine attachment. Row the other end towards your torso with both hands, then lower it back down.'}\n",
      "{'id': 125, 'exercise_name': 'Superman Exercise', 'type_of_activity': 'Strength', 'type_of_equipment': 'Bodyweight', 'body_part': 'Core', 'type': 'Hold', 'muscle_groups_activated': 'Lower Back, Glutes, Hamstrings', 'instructions': 'Lie face down on the floor with arms extended. Lift your arms, chest, and legs off the ground simultaneously, then lower them back down.'}\n",
      "{'id': 126, 'exercise_name': 'Dumbbell Flyes', 'type_of_activity': 'Strength', 'type_of_equipment': 'Dumbbells', 'body_part': 'Upper Body', 'type': 'Push', 'muscle_groups_activated': 'Pectorals', 'instructions': 'Lie on a bench with a dumbbell in each hand. Lower the weights out to the sides of your chest, then bring them back together over your chest.'}\n",
      "{'id': 127, 'exercise_name': 'Reverse Fly', 'type_of_activity': 'Strength', 'type_of_equipment': 'Dumbbells', 'body_part': 'Upper Body', 'type': 'Pull', 'muscle_groups_activated': 'Rear Deltoids, Trapezius, Rhomboids', 'instructions': 'Stand with feet hip-width apart, bend forward at the hips, and raise the dumbbells out to the sides until they are parallel to the floor.'}\n",
      "{'id': 128, 'exercise_name': 'Cable Kickbacks', 'type_of_activity': 'Strength', 'type_of_equipment': 'Cable Machine', 'body_part': 'Lower Body', 'type': 'Push', 'muscle_groups_activated': 'Glutes, Hamstrings', 'instructions': 'Attach an ankle strap to a low cable pulley. Kick your leg back while keeping your knee slightly bent, then return to the starting position.'}\n",
      "{'id': 129, 'exercise_name': 'Kettlebell Push Press', 'type_of_activity': 'Strength', 'type_of_equipment': 'Kettlebell', 'body_part': 'Upper Body', 'type': 'Push', 'muscle_groups_activated': 'Deltoids, Triceps', 'instructions': 'Hold a kettlebell at shoulder height. Use your legs to help press the kettlebell overhead, then lower it back down.'}\n",
      "{'id': 130, 'exercise_name': 'Dead Bug', 'type_of_activity': 'Strength', 'type_of_equipment': 'Bodyweight', 'body_part': 'Core', 'type': 'Hold', 'muscle_groups_activated': 'Rectus Abdominis, Hip Flexors', 'instructions': 'Lie on your back with arms extended towards the ceiling. Lower opposite arm and leg towards the floor while keeping your back flat.'}\n",
      "{'id': 131, 'exercise_name': 'Smith Machine Squat', 'type_of_activity': 'Strength', 'type_of_equipment': 'Smith Machine', 'body_part': 'Lower Body', 'type': 'Push', 'muscle_groups_activated': 'Quadriceps, Glutes, Hamstrings', 'instructions': 'Stand under the bar of a Smith machine. Squat down until your thighs are parallel to the floor, then push back up.'}\n",
      "{'id': 132, 'exercise_name': 'Reverse Hyperextension', 'type_of_activity': 'Strength', 'type_of_equipment': 'Machine', 'body_part': 'Lower Body', 'type': 'Pull', 'muscle_groups_activated': 'Glutes, Hamstrings, Lower Back', 'instructions': 'Lie face down on a hyperextension bench with your hips off the end. Lift your legs towards the ceiling, then lower them back down.'}\n",
      "{'id': 133, 'exercise_name': 'Landmine Twist', 'type_of_activity': 'Strength', 'type_of_equipment': 'Barbell', 'body_part': 'Core', 'type': 'Twist', 'muscle_groups_activated': 'Obliques, Rectus Abdominis', 'instructions': 'Hold the end of a barbell anchored in a landmine attachment. Rotate the bar side to side while keeping your core tight.'}\n",
      "{'id': 134, 'exercise_name': 'Machine Row', 'type_of_activity': 'Strength', 'type_of_equipment': 'Machine', 'body_part': 'Upper Body', 'type': 'Pull', 'muscle_groups_activated': 'Latissimus Dorsi, Biceps', 'instructions': 'Sit at a rowing machine with feet braced. Pull the handles towards your torso, then slowly return to the starting position.'}\n",
      "{'id': 135, 'exercise_name': 'Seated Calf Raise', 'type_of_activity': 'Strength', 'type_of_equipment': 'Machine', 'body_part': 'Lower Body', 'type': 'Push', 'muscle_groups_activated': 'Calves', 'instructions': 'Sit on a calf raise machine with the balls of your feet on the platform. Raise your heels as high as possible, then lower them back down.'}\n",
      "{'id': 136, 'exercise_name': 'Kettlebell Windmill', 'type_of_activity': 'Strength', 'type_of_equipment': 'Kettlebell', 'body_part': 'Core', 'type': 'Twist', 'muscle_groups_activated': 'Obliques, Glutes, Hamstrings', 'instructions': 'Hold a kettlebell overhead with one arm, then bend at the waist while reaching towards the floor with the other hand.'}\n",
      "{'id': 137, 'exercise_name': 'Incline Barbell Bench Press', 'type_of_activity': 'Strength', 'type_of_equipment': 'Barbell', 'body_part': 'Upper Body', 'type': 'Push', 'muscle_groups_activated': 'Pectorals, Triceps, Deltoids', 'instructions': 'Lie on an incline bench with a barbell. Press the bar up and together over your chest, then lower it back down.'}\n",
      "{'id': 138, 'exercise_name': 'Kettlebell Goblet Squat', 'type_of_activity': 'Strength', 'type_of_equipment': 'Kettlebell', 'body_part': 'Lower Body', 'type': 'Push', 'muscle_groups_activated': 'Quadriceps, Glutes, Hamstrings', 'instructions': 'Hold a kettlebell at chest level and squat down as if sitting in a chair. Return to standing.'}\n",
      "{'id': 139, 'exercise_name': 'Dumbbell Thrusters', 'type_of_activity': 'Strength', 'type_of_equipment': 'Dumbbells', 'body_part': 'Full Body', 'type': 'Push', 'muscle_groups_activated': 'Quadriceps, Glutes, Shoulders', 'instructions': 'Hold a dumbbell in each hand at shoulder height. Squat down, then push through your heels to stand up and press the weights overhead.'}\n",
      "{'id': 140, 'exercise_name': 'Lying Leg Curl', 'type_of_activity': 'Strength', 'type_of_equipment': 'Machine', 'body_part': 'Lower Body', 'type': 'Pull', 'muscle_groups_activated': 'Hamstrings', 'instructions': 'Lie face down on a leg curl machine and curl the pad towards your glutes, then return to the starting position.'}\n",
      "{'id': 141, 'exercise_name': 'Dumbbell Hammer Curl', 'type_of_activity': 'Strength', 'type_of_equipment': 'Dumbbells', 'body_part': 'Upper Body', 'type': 'Pull', 'muscle_groups_activated': 'Biceps, Forearms', 'instructions': 'Stand with feet shoulder-width apart, holding a dumbbell in each hand with a neutral grip. Curl the weights up towards your shoulders.'}\n",
      "{'id': 142, 'exercise_name': 'Landmine Squat Press', 'type_of_activity': 'Strength', 'type_of_equipment': 'Barbell', 'body_part': 'Full Body', 'type': 'Push', 'muscle_groups_activated': 'Quadriceps, Glutes, Shoulders', 'instructions': 'Hold the end of a barbell anchored in a landmine attachment. Squat down, then push through your heels to stand up and press the bar overhead.'}\n"
     ]
    },
    {
     "name": "stdout",
     "output_type": "stream",
     "text": [
      "{'id': 143, 'exercise_name': 'Zottman Curl', 'type_of_activity': 'Strength', 'type_of_equipment': 'Dumbbells', 'body_part': 'Upper Body', 'type': 'Pull', 'muscle_groups_activated': 'Biceps, Forearms', 'instructions': 'Stand with feet shoulder-width apart, holding a dumbbell in each hand. Curl the weights up with a supinated grip, then rotate your wrists and lower them with a pronated grip.'}\n",
      "{'id': 144, 'exercise_name': 'Cable Crunch', 'type_of_activity': 'Strength', 'type_of_equipment': 'Cable Machine', 'body_part': 'Core', 'type': 'Hold', 'muscle_groups_activated': 'Rectus Abdominis', 'instructions': 'Kneel in front of a cable machine with a rope attachment. Crunch down, bringing your elbows towards your knees while keeping your back straight.'}\n",
      "{'id': 145, 'exercise_name': 'Stability Ball Pike', 'type_of_activity': 'Strength', 'type_of_equipment': 'Stability Ball', 'body_part': 'Core', 'type': 'Hold', 'muscle_groups_activated': 'Rectus Abdominis, Hip Flexors', 'instructions': 'Start in a plank position with your feet on a stability ball. Roll the ball towards your hands by piking your hips towards the ceiling.'}\n",
      "{'id': 146, 'exercise_name': 'Standing Calf Raise', 'type_of_activity': 'Strength', 'type_of_equipment': 'Bodyweight', 'body_part': 'Lower Body', 'type': 'Push', 'muscle_groups_activated': 'Calves', 'instructions': 'Stand with the balls of your feet on the edge of a step. Raise your heels as high as possible, then lower them back down.'}\n",
      "{'id': 147, 'exercise_name': 'Cable Kickback', 'type_of_activity': 'Strength', 'type_of_equipment': 'Cable Machine', 'body_part': 'Upper Body', 'type': 'Push', 'muscle_groups_activated': 'Triceps', 'instructions': 'Stand facing a cable machine with a handle attached to the low pulley. Extend your arm straight back, then return to the starting position.'}\n",
      "{'id': 148, 'exercise_name': 'Spider Push-Ups', 'type_of_activity': 'Strength', 'type_of_equipment': 'Bodyweight', 'body_part': 'Upper Body', 'type': 'Push', 'muscle_groups_activated': 'Pectorals, Triceps, Deltoids, Obliques', 'instructions': 'Start in a high plank position. As you lower your body, bring one knee towards your elbow, then push back up and switch sides.'}\n",
      "{'id': 149, 'exercise_name': 'Resistance Band Chest Press', 'type_of_activity': 'Strength', 'type_of_equipment': 'Resistance Band', 'body_part': 'Upper Body', 'type': 'Push', 'muscle_groups_activated': 'Pectorals, Triceps, Deltoids', 'instructions': 'Attach a resistance band to a sturdy anchor behind you. Press the handles forward until your arms are fully extended.'}\n",
      "{'id': 150, 'exercise_name': 'One-Arm Dumbbell Row', 'type_of_activity': 'Strength', 'type_of_equipment': 'Dumbbell', 'body_part': 'Upper Body', 'type': 'Pull', 'muscle_groups_activated': 'Latissimus Dorsi, Biceps', 'instructions': 'Place one knee and hand on a bench for support. Row the dumbbell towards your torso with the other hand.'}\n",
      "{'id': 151, 'exercise_name': 'Incline Chest Press', 'type_of_activity': 'Strength', 'type_of_equipment': 'Dumbbells', 'body_part': 'Upper Body', 'type': 'Push', 'muscle_groups_activated': 'Pectorals, Triceps, Deltoids', 'instructions': 'Lie on an incline bench with a dumbbell in each hand. Press the weights up and together over your chest, then lower them back down.'}\n",
      "{'id': 152, 'exercise_name': 'Machine Preacher Curl', 'type_of_activity': 'Strength', 'type_of_equipment': 'Machine', 'body_part': 'Upper Body', 'type': 'Pull', 'muscle_groups_activated': 'Biceps', 'instructions': 'Sit at a preacher curl machine with your arms on the pad. Curl the handle towards your shoulders, then lower it back down.'}\n",
      "{'id': 153, 'exercise_name': 'Hanging Knee Raises', 'type_of_activity': 'Strength', 'type_of_equipment': 'Bodyweight', 'body_part': 'Core', 'type': 'Hold', 'muscle_groups_activated': 'Rectus Abdominis, Hip Flexors', 'instructions': 'Hang from a pull-up bar and tuck your knees towards your chest, then slowly lower them back down.'}\n",
      "{'id': 154, 'exercise_name': 'Decline Dumbbell Press', 'type_of_activity': 'Strength', 'type_of_equipment': 'Dumbbells', 'body_part': 'Upper Body', 'type': 'Push', 'muscle_groups_activated': 'Pectorals, Triceps, Deltoids', 'instructions': 'Lie on a decline bench with a dumbbell in each hand. Lower the weights to your chest, then press them back up.'}\n",
      "{'id': 155, 'exercise_name': 'Glute Kickback', 'type_of_activity': 'Strength', 'type_of_equipment': 'Bodyweight', 'body_part': 'Lower Body', 'type': 'Push', 'muscle_groups_activated': 'Glutes, Hamstrings', 'instructions': 'Start on all fours and kick one leg straight back, squeezing your glutes at the top of the movement.'}\n",
      "{'id': 156, 'exercise_name': 'Machine Chest Press', 'type_of_activity': 'Strength', 'type_of_equipment': 'Machine', 'body_part': 'Upper Body', 'type': 'Push', 'muscle_groups_activated': 'Pectorals, Triceps, Deltoids', 'instructions': 'Sit at a chest press machine with your feet flat on the floor. Press the handles forward until your arms are fully extended.'}\n",
      "{'id': 157, 'exercise_name': 'Single-Leg Squat', 'type_of_activity': 'Strength', 'type_of_equipment': 'Bodyweight', 'body_part': 'Lower Body', 'type': 'Push', 'muscle_groups_activated': 'Quadriceps, Glutes, Hamstrings', 'instructions': 'Stand on one leg with the other leg extended in front of you. Lower your hips until your thigh is parallel to the floor, then push back up.'}\n",
      "{'id': 158, 'exercise_name': 'Push-Up to Row', 'type_of_activity': 'Strength', 'type_of_equipment': 'Dumbbells', 'body_part': 'Upper Body', 'type': 'Push/Pull', 'muscle_groups_activated': 'Pectorals, Triceps, Latissimus Dorsi', 'instructions': 'Start in a high plank position with a dumbbell in each hand. Perform a push-up, then row each dumbbell towards your torso.'}\n",
      "{'id': 159, 'exercise_name': 'Smith Machine Row', 'type_of_activity': 'Strength', 'type_of_equipment': 'Smith Machine', 'body_part': 'Upper Body', 'type': 'Pull', 'muscle_groups_activated': 'Latissimus Dorsi, Biceps', 'instructions': 'Stand with feet shoulder-width apart, bend forward at the hips, and row the bar towards your torso.'}\n",
      "{'id': 160, 'exercise_name': 'Lat Pullover', 'type_of_activity': 'Strength', 'type_of_equipment': 'Dumbbell', 'body_part': 'Upper Body', 'type': 'Pull', 'muscle_groups_activated': 'Latissimus Dorsi, Pectorals, Triceps', 'instructions': 'Lie on a bench holding a dumbbell over your chest. Lower the weight behind your head, then pull it back up.'}\n",
      "{'id': 161, 'exercise_name': 'Smith Machine Shoulder Press', 'type_of_activity': 'Strength', 'type_of_equipment': 'Smith Machine', 'body_part': 'Upper Body', 'type': 'Push', 'muscle_groups_activated': 'Deltoids, Triceps', 'instructions': 'Sit on a bench under a Smith machine bar. Press the bar overhead until your arms are fully extended.'}\n",
      "{'id': 162, 'exercise_name': 'Cable Woodchopper', 'type_of_activity': 'Strength', 'type_of_equipment': 'Cable Machine', 'body_part': 'Core', 'type': 'Twist', 'muscle_groups_activated': 'Obliques, Rectus Abdominis', 'instructions': 'Stand sideways to a cable machine with the handle at the high pulley. Pull the handle down across your body in a chopping motion.'}\n",
      "{'id': 163, 'exercise_name': 'Machine Back Extension', 'type_of_activity': 'Strength', 'type_of_equipment': 'Machine', 'body_part': 'Lower Body', 'type': 'Pull', 'muscle_groups_activated': 'Lower Back, Glutes, Hamstrings', 'instructions': 'Sit on a back extension machine with your feet braced. Extend your hips to lift your torso, then lower back down.'}\n",
      "{'id': 164, 'exercise_name': 'Prone Leg Curl', 'type_of_activity': 'Strength', 'type_of_equipment': 'Machine', 'body_part': 'Lower Body', 'type': 'Pull', 'muscle_groups_activated': 'Hamstrings', 'instructions': 'Lie face down on a leg curl machine and curl the pad towards your glutes, then return to the starting position.'}\n",
      "{'id': 165, 'exercise_name': 'Seated Dumbbell Press', 'type_of_activity': 'Strength', 'type_of_equipment': 'Dumbbells', 'body_part': 'Upper Body', 'type': 'Push', 'muscle_groups_activated': 'Deltoids, Triceps', 'instructions': 'Sit on a bench with a dumbbell in each hand at shoulder height. Press the weights overhead until your arms are fully extended.'}\n",
      "{'id': 166, 'exercise_name': 'Weighted Plank', 'type_of_activity': 'Strength', 'type_of_equipment': 'Bodyweight', 'body_part': 'Core', 'type': 'Hold', 'muscle_groups_activated': 'Rectus Abdominis, Obliques, Shoulders', 'instructions': 'Start in a forearm plank position with a weight plate on your back. Hold the position while keeping your body straight.'}\n"
     ]
    },
    {
     "name": "stdout",
     "output_type": "stream",
     "text": [
      "{'id': 167, 'exercise_name': 'Step Mill', 'type_of_activity': 'Cardio', 'type_of_equipment': 'Machine', 'body_part': 'Lower Body', 'type': 'Push', 'muscle_groups_activated': 'Quadriceps, Glutes, Hamstrings, Calves', 'instructions': 'Step continuously on a revolving staircase, keeping a steady pace.'}\n",
      "{'id': 168, 'exercise_name': 'Standing Resistance Band Row', 'type_of_activity': 'Strength', 'type_of_equipment': 'Resistance Band', 'body_part': 'Upper Body', 'type': 'Pull', 'muscle_groups_activated': 'Latissimus Dorsi, Biceps', 'instructions': 'Attach a resistance band to a sturdy anchor. Pull the handles towards your torso, keeping your elbows close to your body.'}\n",
      "{'id': 169, 'exercise_name': 'Dumbbell Lunge', 'type_of_activity': 'Strength', 'type_of_equipment': 'Dumbbells', 'body_part': 'Lower Body', 'type': 'Push', 'muscle_groups_activated': 'Quadriceps, Glutes, Hamstrings', 'instructions': 'Hold a dumbbell in each hand and step forward into a lunge. Push back to the starting position and repeat on the other leg.'}\n",
      "{'id': 170, 'exercise_name': 'Reverse Curl', 'type_of_activity': 'Strength', 'type_of_equipment': 'Dumbbells', 'body_part': 'Upper Body', 'type': 'Pull', 'muscle_groups_activated': 'Biceps, Forearms', 'instructions': 'Stand with feet shoulder-width apart, holding a dumbbell in each hand with an overhand grip. Curl the weights up towards your shoulders.'}\n",
      "{'id': 171, 'exercise_name': 'Banded Pull-Up', 'type_of_activity': 'Strength', 'type_of_equipment': 'Resistance Band', 'body_part': 'Upper Body', 'type': 'Pull', 'muscle_groups_activated': 'Latissimus Dorsi, Biceps', 'instructions': 'Loop a resistance band around a pull-up bar and place your knees in the band. Pull your body up until your chin is above the bar.'}\n",
      "{'id': 172, 'exercise_name': 'Cable Face Pull', 'type_of_activity': 'Strength', 'type_of_equipment': 'Cable Machine', 'body_part': 'Upper Body', 'type': 'Pull', 'muscle_groups_activated': 'Rear Deltoids, Trapezius, Rhomboids', 'instructions': 'Attach a rope handle to a high cable pulley. Pull the handle towards your face, leading with your elbows.'}\n",
      "{'id': 173, 'exercise_name': 'Turkish Get-Up', 'type_of_activity': 'Strength', 'type_of_equipment': 'Kettlebell', 'body_part': 'Full Body', 'type': 'Hold', 'muscle_groups_activated': 'Core, Shoulders, Glutes', 'instructions': 'Lie on your back holding a kettlebell overhead. Stand up while keeping the kettlebell above your head, then return to lying.'}\n",
      "{'id': 174, 'exercise_name': 'Weighted Russian Twists', 'type_of_activity': 'Strength', 'type_of_equipment': 'Medicine Ball', 'body_part': 'Core', 'type': 'Twist', 'muscle_groups_activated': 'Obliques, Rectus Abdominis', 'instructions': 'Sit on the floor with knees bent, holding a medicine ball. Twist your torso to each side, tapping the ball on the floor.'}\n",
      "{'id': 175, 'exercise_name': 'Cable Front Raise', 'type_of_activity': 'Strength', 'type_of_equipment': 'Cable Machine', 'body_part': 'Upper Body', 'type': 'Push', 'muscle_groups_activated': 'Deltoids', 'instructions': 'Stand facing a cable machine with the handle at the low pulley. Raise the handle in front of you until your arm is parallel to the floor.'}\n",
      "{'id': 176, 'exercise_name': 'Reverse Crunch', 'type_of_activity': 'Strength', 'type_of_equipment': 'Bodyweight', 'body_part': 'Core', 'type': 'Hold', 'muscle_groups_activated': 'Rectus Abdominis, Hip Flexors', 'instructions': 'Lie on your back with legs extended towards the ceiling. Lift your hips off the ground, bringing your knees towards your chest.'}\n",
      "{'id': 177, 'exercise_name': 'Cable Tricep Kickback', 'type_of_activity': 'Strength', 'type_of_equipment': 'Cable Machine', 'body_part': 'Upper Body', 'type': 'Push', 'muscle_groups_activated': 'Triceps', 'instructions': 'Stand facing a cable machine with a handle attached to the low pulley. Extend your arm straight back, then return to the starting position.'}\n",
      "{'id': 178, 'exercise_name': 'Copenhagen Plank', 'type_of_activity': 'Strength', 'type_of_equipment': 'Bodyweight', 'body_part': 'Core', 'type': 'Hold', 'muscle_groups_activated': 'Obliques, Adductors', 'instructions': 'Lie on your side with your top leg on a bench and your bottom leg extended. Lift your hips to form a straight line from head to heels.'}\n",
      "{'id': 179, 'exercise_name': 'Smith Machine Incline Press', 'type_of_activity': 'Strength', 'type_of_equipment': 'Smith Machine', 'body_part': 'Upper Body', 'type': 'Push', 'muscle_groups_activated': 'Pectorals, Triceps, Deltoids', 'instructions': 'Lie on an incline bench under a Smith machine bar. Press the bar up and together over your chest, then lower it back down.'}\n",
      "{'id': 180, 'exercise_name': 'Cable Lat Pulldown', 'type_of_activity': 'Strength', 'type_of_equipment': 'Cable Machine', 'body_part': 'Upper Body', 'type': 'Pull', 'muscle_groups_activated': 'Latissimus Dorsi, Biceps', 'instructions': 'Sit at a lat pulldown machine, grasp the bar with a wide grip, and pull it down to your chest. Slowly return to the starting position.'}\n",
      "{'id': 181, 'exercise_name': 'Cable Side Lunge', 'type_of_activity': 'Strength', 'type_of_equipment': 'Cable Machine', 'body_part': 'Lower Body', 'type': 'Push', 'muscle_groups_activated': 'Quadriceps, Glutes, Adductors', 'instructions': 'Attach a handle to a low pulley and stand to the side of the cable machine. Step out into a side lunge, then return to the starting position.'}\n",
      "{'id': 182, 'exercise_name': 'Dumbbell Bent-Over Row', 'type_of_activity': 'Strength', 'type_of_equipment': 'Dumbbells', 'body_part': 'Upper Body', 'type': 'Pull', 'muscle_groups_activated': 'Latissimus Dorsi, Biceps', 'instructions': 'Stand with feet shoulder-width apart, bend forward at the hips, and row the dumbbells towards your torso.'}\n",
      "{'id': 183, 'exercise_name': 'Lateral Lunge', 'type_of_activity': 'Strength', 'type_of_equipment': 'Bodyweight', 'body_part': 'Lower Body', 'type': 'Push', 'muscle_groups_activated': 'Quadriceps, Glutes, Adductors', 'instructions': 'Step out to the side, bending one knee while keeping the other leg straight. Push back to the starting position.'}\n",
      "{'id': 184, 'exercise_name': 'Seated Machine Row', 'type_of_activity': 'Strength', 'type_of_equipment': 'Machine', 'body_part': 'Upper Body', 'type': 'Pull', 'muscle_groups_activated': 'Latissimus Dorsi, Biceps', 'instructions': 'Sit at a rowing machine with feet braced. Pull the handles towards your torso, then slowly return to the starting position.'}\n",
      "{'id': 185, 'exercise_name': 'Decline Russian Twist', 'type_of_activity': 'Strength', 'type_of_equipment': 'Bodyweight', 'body_part': 'Core', 'type': 'Twist', 'muscle_groups_activated': 'Obliques, Rectus Abdominis', 'instructions': 'Sit on a decline bench with your knees bent. Twist your torso to each side, tapping your hands on the floor.'}\n",
      "{'id': 186, 'exercise_name': 'Deadlift High Pull', 'type_of_activity': 'Strength', 'type_of_equipment': 'Barbell', 'body_part': 'Full Body', 'type': 'Pull', 'muscle_groups_activated': 'Glutes, Hamstrings, Shoulders', 'instructions': 'Start with a barbell on the ground, perform a deadlift, and as you stand up, pull the barbell up towards your chest.'}\n",
      "{'id': 187, 'exercise_name': 'Reverse Grip Lat Pulldown', 'type_of_activity': 'Strength', 'type_of_equipment': 'Cable Machine', 'body_part': 'Upper Body', 'type': 'Pull', 'muscle_groups_activated': 'Latissimus Dorsi, Biceps', 'instructions': 'Sit at a lat pulldown machine with a reverse grip. Pull the bar down to your chest, then slowly return to the starting position.'}\n",
      "{'id': 188, 'exercise_name': 'Cable Lateral Lunge', 'type_of_activity': 'Strength', 'type_of_equipment': 'Cable Machine', 'body_part': 'Lower Body', 'type': 'Push', 'muscle_groups_activated': 'Quadriceps, Glutes, Adductors', 'instructions': 'Attach a handle to a low pulley and stand to the side of the cable machine. Step out into a side lunge, then return to the starting position.'}\n",
      "{'id': 189, 'exercise_name': 'Pike Push-Up', 'type_of_activity': 'Strength', 'type_of_equipment': 'Bodyweight', 'body_part': 'Upper Body', 'type': 'Push', 'muscle_groups_activated': 'Deltoids, Triceps', 'instructions': 'Start in a downward dog position with your hips raised. Lower your head towards the floor, then push back up.'}\n"
     ]
    },
    {
     "name": "stdout",
     "output_type": "stream",
     "text": [
      "{'id': 190, 'exercise_name': 'One-Arm Dumbbell Snatch', 'type_of_activity': 'Strength', 'type_of_equipment': 'Dumbbell', 'body_part': 'Full Body', 'type': 'Push', 'muscle_groups_activated': 'Glutes, Shoulders, Triceps', 'instructions': 'Start with a dumbbell between your feet. Explosively pull the dumbbell up and overhead in one motion.'}\n",
      "{'id': 191, 'exercise_name': 'Cable Front Squat', 'type_of_activity': 'Strength', 'type_of_equipment': 'Cable Machine', 'body_part': 'Lower Body', 'type': 'Push', 'muscle_groups_activated': 'Quadriceps, Glutes, Hamstrings', 'instructions': 'Attach a rope handle to a low pulley and stand facing the cable machine. Squat down while holding the rope at chest height.'}\n",
      "{'id': 192, 'exercise_name': 'Tire Flip', 'type_of_activity': 'Strength', 'type_of_equipment': 'Tire', 'body_part': 'Full Body', 'type': 'Push', 'muscle_groups_activated': 'Glutes, Quadriceps, Hamstrings, Shoulders', 'instructions': 'Squat down and grab the edge of a tire. Lift the tire and flip it forward.'}\n",
      "{'id': 193, 'exercise_name': 'Smith Machine Calf Raise', 'type_of_activity': 'Strength', 'type_of_equipment': 'Smith Machine', 'body_part': 'Lower Body', 'type': 'Push', 'muscle_groups_activated': 'Calves', 'instructions': 'Stand under the bar of a Smith machine with the balls of your feet on a step. Raise your heels as high as possible, then lower them back down.'}\n",
      "{'id': 194, 'exercise_name': 'Pistol Squat to Box', 'type_of_activity': 'Strength', 'type_of_equipment': 'Bodyweight', 'body_part': 'Lower Body', 'type': 'Push', 'muscle_groups_activated': 'Quadriceps, Glutes, Hamstrings', 'instructions': 'Stand on one leg in front of a box. Lower your hips until you sit on the box, then stand back up.'}\n",
      "{'id': 195, 'exercise_name': 'Standing Chest Fly', 'type_of_activity': 'Strength', 'type_of_equipment': 'Cable Machine', 'body_part': 'Upper Body', 'type': 'Push', 'muscle_groups_activated': 'Pectorals, Deltoids', 'instructions': 'Stand in the middle of a cable machine with handles in each hand. Bring the handles together in front of your chest, then return to the starting position.'}\n",
      "{'id': 196, 'exercise_name': 'Sled Drag', 'type_of_activity': 'Cardio/Strength', 'type_of_equipment': 'Sled', 'body_part': 'Full Body', 'type': 'Pull', 'muscle_groups_activated': 'Glutes, Quadriceps, Hamstrings, Shoulders', 'instructions': 'Attach a harness to a sled and drag it across a flat surface, walking or running backwards.'}\n",
      "{'id': 197, 'exercise_name': 'Cable Hammer Curl', 'type_of_activity': 'Strength', 'type_of_equipment': 'Cable Machine', 'body_part': 'Upper Body', 'type': 'Pull', 'muscle_groups_activated': 'Biceps, Forearms', 'instructions': 'Stand facing a cable machine with the handle attached to the low pulley. Curl the handle towards your shoulders with a neutral grip.'}\n",
      "{'id': 198, 'exercise_name': 'Cable Tricep Overhead Extension', 'type_of_activity': 'Strength', 'type_of_equipment': 'Cable Machine', 'body_part': 'Upper Body', 'type': 'Push', 'muscle_groups_activated': 'Triceps', 'instructions': 'Stand facing away from a cable machine with the handle attached to the low pulley. Extend the handle overhead until your arms are fully extended.'}\n",
      "{'id': 199, 'exercise_name': 'Seated Cable Row', 'type_of_activity': 'Strength', 'type_of_equipment': 'Cable Machine', 'body_part': 'Upper Body', 'type': 'Pull', 'muscle_groups_activated': 'Latissimus Dorsi, Biceps', 'instructions': 'Sit at a cable row machine with feet braced. Pull the handle towards your torso, then slowly return to the starting position.'}\n",
      "{'id': 200, 'exercise_name': 'Lying Dumbbell Tricep Extension', 'type_of_activity': 'Strength', 'type_of_equipment': 'Dumbbells', 'body_part': 'Upper Body', 'type': 'Push', 'muscle_groups_activated': 'Triceps', 'instructions': 'Lie on a bench with a dumbbell in each hand. Lower the weights towards your head by bending your elbows, then extend your arms back to the starting position.'}\n",
      "{'id': 201, 'exercise_name': 'Weighted Pull-Up', 'type_of_activity': 'Strength', 'type_of_equipment': 'Bodyweight/Dumbbell', 'body_part': 'Upper Body', 'type': 'Pull', 'muscle_groups_activated': 'Latissimus Dorsi, Biceps', 'instructions': 'Hang a weight from your waist and perform a pull-up, bringing your chin above the bar.'}\n",
      "{'id': 202, 'exercise_name': 'Incline Dumbbell Row', 'type_of_activity': 'Strength', 'type_of_equipment': 'Dumbbells', 'body_part': 'Upper Body', 'type': 'Pull', 'muscle_groups_activated': 'Latissimus Dorsi, Biceps', 'instructions': 'Lie face down on an incline bench with a dumbbell in each hand. Row the weights towards your torso, then lower them back down.'}\n",
      "{'id': 203, 'exercise_name': 'Machine Lat Pulldown', 'type_of_activity': 'Strength', 'type_of_equipment': 'Machine', 'body_part': 'Upper Body', 'type': 'Pull', 'muscle_groups_activated': 'Latissimus Dorsi, Biceps', 'instructions': 'Sit at a lat pulldown machine with a wide grip. Pull the bar down to your chest, then slowly return to the starting position.'}\n",
      "{'id': 204, 'exercise_name': 'One-Arm Cable Row', 'type_of_activity': 'Strength', 'type_of_equipment': 'Cable Machine', 'body_part': 'Upper Body', 'type': 'Pull', 'muscle_groups_activated': 'Latissimus Dorsi, Biceps', 'instructions': 'Stand facing a cable machine with the handle attached to the low pulley. Row the handle towards your torso with one hand.'}\n",
      "{'id': 205, 'exercise_name': 'Face Pull', 'type_of_activity': 'Strength', 'type_of_equipment': 'Cable Machine', 'body_part': 'Upper Body', 'type': 'Pull', 'muscle_groups_activated': 'Rear Deltoids, Trapezius, Rhomboids', 'instructions': 'Attach a rope handle to a high cable pulley. Pull the handle towards your face, leading with your elbows.'}\n",
      "{'id': 206, 'exercise_name': 'Dumbbell Bench Press', 'type_of_activity': 'Strength', 'type_of_equipment': 'Dumbbells', 'body_part': 'Upper Body', 'type': 'Push', 'muscle_groups_activated': 'Pectorals, Triceps, Deltoids', 'instructions': 'Lie on a bench with a dumbbell in each hand. Press the weights up and together over your chest, then lower them back down.'}\n"
     ]
    }
   ],
   "source": [
    "for doc in tqdm(documents):\n",
    "    print(doc)\n",
    "    doc_id = doc['id']\n",
    "    if not doc_id:\n",
    "        print(f\"No 'id' found in document: {doc}\")\n",
    "    if doc_id in results:\n",
    "        continue\n",
    "\n",
    "    questions_raw = generate_questions(doc)\n",
    "    questions = json.loads(questions_raw)\n",
    "    results[doc_id] = questions['questions']"
   ]
  },
  {
   "cell_type": "code",
   "execution_count": 38,
   "id": "2bcc6347-80af-499e-9ee6-d346f0e9f067",
   "metadata": {},
   "outputs": [],
   "source": [
    "final_results = []\n",
    "\n",
    "for doc_id, questions in results.items():\n",
    "    for q in questions:\n",
    "        final_results.append((doc_id, q))"
   ]
  },
  {
   "cell_type": "code",
   "execution_count": 39,
   "id": "0037e60a-e338-481e-9845-e3161c881ba3",
   "metadata": {},
   "outputs": [
    {
     "data": {
      "text/plain": [
       "(0, 'What equipment do I need to perform push-ups?')"
      ]
     },
     "execution_count": 39,
     "metadata": {},
     "output_type": "execute_result"
    }
   ],
   "source": [
    "final_results[0]"
   ]
  },
  {
   "cell_type": "code",
   "execution_count": 40,
   "id": "3e1fac17-dccb-46d7-bade-50166dafbd52",
   "metadata": {},
   "outputs": [],
   "source": [
    "df_results = pd.DataFrame(final_results, columns=['id', 'question'])"
   ]
  },
  {
   "cell_type": "code",
   "execution_count": 41,
   "id": "c64131b0-9cca-488b-a819-320bcd5f9342",
   "metadata": {},
   "outputs": [],
   "source": [
    "df_results.to_csv('../data/ground-truth-retrieval.csv', index=False)"
   ]
  },
  {
   "cell_type": "code",
   "execution_count": 55,
   "id": "df4e5a91-a049-432d-b5f4-cc4320c27a13",
   "metadata": {},
   "outputs": [],
   "source": [
    "#!head ../data/ground-truth-retrieval.csv"
   ]
  },
  {
   "cell_type": "code",
   "execution_count": 53,
   "id": "f1f87a34-e06b-4393-95ff-4d587c09afd7",
   "metadata": {},
   "outputs": [],
   "source": [
    "df_show = pd.read_csv('../data/ground-truth-retrieval.csv')"
   ]
  },
  {
   "cell_type": "code",
   "execution_count": 56,
   "id": "476f6452",
   "metadata": {},
   "outputs": [
    {
     "data": {
      "text/html": [
       "<div>\n",
       "<style scoped>\n",
       "    .dataframe tbody tr th:only-of-type {\n",
       "        vertical-align: middle;\n",
       "    }\n",
       "\n",
       "    .dataframe tbody tr th {\n",
       "        vertical-align: top;\n",
       "    }\n",
       "\n",
       "    .dataframe thead th {\n",
       "        text-align: right;\n",
       "    }\n",
       "</style>\n",
       "<table border=\"1\" class=\"dataframe\">\n",
       "  <thead>\n",
       "    <tr style=\"text-align: right;\">\n",
       "      <th></th>\n",
       "      <th>id</th>\n",
       "      <th>question</th>\n",
       "    </tr>\n",
       "  </thead>\n",
       "  <tbody>\n",
       "    <tr>\n",
       "      <th>0</th>\n",
       "      <td>0</td>\n",
       "      <td>What equipment do I need to perform push-ups?</td>\n",
       "    </tr>\n",
       "    <tr>\n",
       "      <th>1</th>\n",
       "      <td>0</td>\n",
       "      <td>Which muscle groups are primarily worked durin...</td>\n",
       "    </tr>\n",
       "    <tr>\n",
       "      <th>2</th>\n",
       "      <td>0</td>\n",
       "      <td>Can you describe the starting position for pus...</td>\n",
       "    </tr>\n",
       "    <tr>\n",
       "      <th>3</th>\n",
       "      <td>0</td>\n",
       "      <td>What motion should I follow after lowering my ...</td>\n",
       "    </tr>\n",
       "    <tr>\n",
       "      <th>4</th>\n",
       "      <td>0</td>\n",
       "      <td>How should I position my hands when doing push...</td>\n",
       "    </tr>\n",
       "    <tr>\n",
       "      <th>5</th>\n",
       "      <td>1</td>\n",
       "      <td>What is the primary muscle group targeted by s...</td>\n",
       "    </tr>\n",
       "    <tr>\n",
       "      <th>6</th>\n",
       "      <td>1</td>\n",
       "      <td>Can squats be performed without any equipment?</td>\n",
       "    </tr>\n",
       "    <tr>\n",
       "      <th>7</th>\n",
       "      <td>1</td>\n",
       "      <td>How should I position my feet while doing squats?</td>\n",
       "    </tr>\n",
       "    <tr>\n",
       "      <th>8</th>\n",
       "      <td>1</td>\n",
       "      <td>What is the proper form to maintain while perf...</td>\n",
       "    </tr>\n",
       "    <tr>\n",
       "      <th>9</th>\n",
       "      <td>1</td>\n",
       "      <td>What type of exercise are squats classified as?</td>\n",
       "    </tr>\n",
       "  </tbody>\n",
       "</table>\n",
       "</div>"
      ],
      "text/plain": [
       "   id                                           question\n",
       "0   0      What equipment do I need to perform push-ups?\n",
       "1   0  Which muscle groups are primarily worked durin...\n",
       "2   0  Can you describe the starting position for pus...\n",
       "3   0  What motion should I follow after lowering my ...\n",
       "4   0  How should I position my hands when doing push...\n",
       "5   1  What is the primary muscle group targeted by s...\n",
       "6   1     Can squats be performed without any equipment?\n",
       "7   1  How should I position my feet while doing squats?\n",
       "8   1  What is the proper form to maintain while perf...\n",
       "9   1    What type of exercise are squats classified as?"
      ]
     },
     "execution_count": 56,
     "metadata": {},
     "output_type": "execute_result"
    }
   ],
   "source": [
    "df_show.head(10)"
   ]
  },
  {
   "cell_type": "code",
   "execution_count": null,
   "id": "0a810667",
   "metadata": {},
   "outputs": [],
   "source": []
  }
 ],
 "metadata": {
  "kernelspec": {
   "display_name": "Python 3 (ipykernel)",
   "language": "python",
   "name": "python3"
  },
  "language_info": {
   "codemirror_mode": {
    "name": "ipython",
    "version": 3
   },
   "file_extension": ".py",
   "mimetype": "text/x-python",
   "name": "python",
   "nbconvert_exporter": "python",
   "pygments_lexer": "ipython3",
   "version": "3.9.6"
  }
 },
 "nbformat": 4,
 "nbformat_minor": 5
}
